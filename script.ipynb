{
 "cells": [
  {
   "cell_type": "markdown",
   "metadata": {},
   "source": [
    "# Recommendation System Project\n"
   ]
  },
  {
   "cell_type": "code",
   "execution_count": 1,
   "metadata": {},
   "outputs": [],
   "source": [
    "import pandas as pd\n",
    "import numpy as np\n",
    "import matplotlib.pyplot as plt\n",
    "import seaborn as sns\n",
    "from datetime import datetime\n",
    "import dask.dataframe as dd \n",
    "from sklearn.model_selection import train_test_split\n",
    "from sklearn.linear_model import LinearRegression\n",
    "from sklearn.ensemble import IsolationForest\n",
    "from sklearn.preprocessing import LabelEncoder, MinMaxScaler\n",
    "from scipy.sparse import coo_matrix\n",
    "from sklearn.decomposition import TruncatedSVD\n",
    "from sklearn.metrics.pairwise import cosine_similarity\n",
    "import pickle\n",
    "import joblib\n",
    "import scipy.sparse as sparse\n",
    "from implicit.als import AlternatingLeastSquares "
   ]
  },
  {
   "cell_type": "markdown",
   "metadata": {},
   "source": [
    "#### EXPLORATORY DATA ANALYSIS"
   ]
  },
  {
   "cell_type": "code",
   "execution_count": 4,
   "metadata": {},
   "outputs": [
    {
     "name": "stdout",
     "output_type": "stream",
     "text": [
      "Events Dataset Info:\n",
      "<class 'pandas.core.frame.DataFrame'>\n",
      "RangeIndex: 2756101 entries, 0 to 2756100\n",
      "Data columns (total 5 columns):\n",
      " #   Column         Dtype  \n",
      "---  ------         -----  \n",
      " 0   timestamp      int64  \n",
      " 1   visitorid      int64  \n",
      " 2   event          object \n",
      " 3   itemid         int64  \n",
      " 4   transactionid  float64\n",
      "dtypes: float64(1), int64(3), object(1)\n",
      "memory usage: 105.1+ MB\n",
      "\n",
      "Item Properties Dataset Info:\n",
      "<class 'pandas.core.frame.DataFrame'>\n",
      "Index: 20275902 entries, 0 to 9275902\n",
      "Data columns (total 4 columns):\n",
      " #   Column     Dtype \n",
      "---  ------     ----- \n",
      " 0   timestamp  int64 \n",
      " 1   itemid     int64 \n",
      " 2   property   object\n",
      " 3   value      object\n",
      "dtypes: int64(2), object(2)\n",
      "memory usage: 773.5+ MB\n",
      "\n",
      "Category Tree Dataset Info:\n",
      "<class 'pandas.core.frame.DataFrame'>\n",
      "RangeIndex: 1669 entries, 0 to 1668\n",
      "Data columns (total 2 columns):\n",
      " #   Column      Non-Null Count  Dtype  \n",
      "---  ------      --------------  -----  \n",
      " 0   categoryid  1669 non-null   int64  \n",
      " 1   parentid    1644 non-null   float64\n",
      "dtypes: float64(1), int64(1)\n",
      "memory usage: 26.2 KB\n"
     ]
    }
   ],
   "source": [
    "\n",
    "\n",
    "# Load raw CSV files\n",
    "events_df = pd.read_csv(\"events.csv\")\n",
    "item_properties_1 = pd.read_csv(\"item_properties_part1.1.csv\")\n",
    "item_properties_2 = pd.read_csv(\"item_properties_part2.csv\")\n",
    "category_tree = pd.read_csv(\"category_tree.csv\")\n",
    "\n",
    "# Merge item properties (since it's split into two parts)\n",
    "item_properties = pd.concat([item_properties_1, item_properties_2])\n",
    "\n",
    "# Display basic info\n",
    "print(\"Events Dataset Info:\")\n",
    "events_df.info()\n",
    "print(\"\\nItem Properties Dataset Info:\")\n",
    "item_properties.info()\n",
    "print(\"\\nCategory Tree Dataset Info:\")\n",
    "category_tree.info()\n"
   ]
  },
  {
   "cell_type": "code",
   "execution_count": 3,
   "metadata": {},
   "outputs": [
    {
     "name": "stdout",
     "output_type": "stream",
     "text": [
      "Missing Values in Events Dataset:\n",
      "timestamp              0\n",
      "visitorid              0\n",
      "event                  0\n",
      "itemid                 0\n",
      "transactionid    2733644\n",
      "dtype: int64\n",
      "\n",
      "Missing Values in Item Properties Dataset:\n",
      "timestamp    0\n",
      "itemid       0\n",
      "property     0\n",
      "value        0\n",
      "dtype: int64\n",
      "\n",
      "Missing Values in Category Tree Dataset:\n",
      "categoryid     0\n",
      "parentid      25\n",
      "dtype: int64\n"
     ]
    }
   ],
   "source": [
    "# Check missing values in all datasets\n",
    "print(\"Missing Values in Events Dataset:\")\n",
    "print(events_df.isnull().sum())\n",
    "\n",
    "print(\"\\nMissing Values in Item Properties Dataset:\")\n",
    "print(item_properties.isnull().sum())\n",
    "\n",
    "print(\"\\nMissing Values in Category Tree Dataset:\")\n",
    "print(category_tree.isnull().sum())\n"
   ]
  },
  {
   "cell_type": "markdown",
   "metadata": {},
   "source": [
    "Summary Statistics"
   ]
  },
  {
   "cell_type": "code",
   "execution_count": 5,
   "metadata": {},
   "outputs": [
    {
     "name": "stdout",
     "output_type": "stream",
     "text": [
      "          timestamp     visitorid        itemid  transactionid\n",
      "count  2.756101e+06  2.756101e+06  2.756101e+06   22457.000000\n",
      "mean   1.436424e+12  7.019229e+05  2.349225e+05    8826.497796\n",
      "std    3.366312e+09  4.056875e+05  1.341954e+05    5098.996290\n",
      "min    1.430622e+12  0.000000e+00  3.000000e+00       0.000000\n",
      "25%    1.433478e+12  3.505660e+05  1.181200e+05    4411.000000\n",
      "50%    1.436453e+12  7.020600e+05  2.360670e+05    8813.000000\n",
      "75%    1.439225e+12  1.053437e+06  3.507150e+05   13224.000000\n",
      "max    1.442545e+12  1.407579e+06  4.668670e+05   17671.000000\n"
     ]
    }
   ],
   "source": [
    "# Summary statistics for numerical columns\n",
    "print(events_df.describe())\n",
    "\n"
   ]
  },
  {
   "cell_type": "code",
   "execution_count": null,
   "metadata": {},
   "outputs": [
    {
     "name": "stdout",
     "output_type": "stream",
     "text": [
      "          timestamp        itemid\n",
      "count  2.027590e+07  2.027590e+07\n",
      "mean   1.435157e+12  2.333904e+05\n",
      "std    3.327798e+09  1.348452e+05\n",
      "min    1.431227e+12  0.000000e+00\n",
      "25%    1.432436e+12  1.165160e+05\n",
      "50%    1.433646e+12  2.334830e+05\n",
      "75%    1.437880e+12  3.503040e+05\n",
      "max    1.442113e+12  4.668660e+05\n"
     ]
    }
   ],
   "source": [
    "# If item properties contain numeric values:\n",
    "print(item_properties.describe())\n",
    " "
   ]
  },
  {
   "cell_type": "markdown",
   "metadata": {},
   "source": [
    "#### UNIVARIATE ANALYSIS"
   ]
  },
  {
   "cell_type": "code",
   "execution_count": 7,
   "metadata": {},
   "outputs": [
    {
     "data": {
      "image/png": "[encoded data removed]",
      "text/plain": [
       "<Figure size 800x500 with 1 Axes>"
      ]
     },
     "metadata": {},
     "output_type": "display_data"
    }
   ],
   "source": [
    "# Convert timestamp to datetime\n",
    "events_df['datetime'] = pd.to_datetime(events_df['timestamp'], unit='ms')\n",
    "\n",
    "# Plot distribution of visitor activity\n",
    "plt.figure(figsize=(8, 5))\n",
    "sns.histplot(events_df['visitorid'].value_counts(), bins=50, kde=True, color=\"blue\")\n",
    "plt.title(\"Distribution of User Activity (Events Per Visitor)\")\n",
    "plt.xlabel(\"Number of Events\")\n",
    "plt.ylabel(\"Count of Users\")\n",
    "plt.show()\n"
   ]
  },
  {
   "cell_type": "code",
   "execution_count": 8,
   "metadata": {},
   "outputs": [
    {
     "data": {
      "image/png": "[encoded data removed]",
      "text/plain": [
       "<Figure size 800x500 with 1 Axes>"
      ]
     },
     "metadata": {},
     "output_type": "display_data"
    }
   ],
   "source": [
    "# Boxplot to detect extreme users\n",
    "plt.figure(figsize=(8, 5))\n",
    "sns.boxplot(x=events_df['visitorid'].value_counts(), color=\"red\")\n",
    "plt.title(\"Outlier Detection: User Event Counts\")\n",
    "plt.xlabel(\"Number of Events Per User\")\n",
    "plt.show()\n"
   ]
  },
  {
   "cell_type": "markdown",
   "metadata": {},
   "source": [
    "### BIVARIATE ANALYSIS"
   ]
  },
  {
   "cell_type": "code",
   "execution_count": 8,
   "metadata": {},
   "outputs": [
    {
     "data": {
      "image/png": "[encoded data removed]",
      "text/plain": [
       "<Figure size 1200x600 with 1 Axes>"
      ]
     },
     "metadata": {},
     "output_type": "display_data"
    }
   ],
   "source": [
    "# Extract hour of the day\n",
    "events_df['hour'] = events_df['datetime'].dt.hour\n",
    "\n",
    "# Plot event counts by hour\n",
    "plt.figure(figsize=(12, 6))\n",
    "sns.boxplot(x=\"event\", y=\"hour\", data=events_df)\n",
    "plt.title(\"Distribution of Events by Hour of the Day\")\n",
    "plt.xlabel(\"Event Type\")\n",
    "plt.ylabel(\"Hour of the Day\")\n",
    "plt.show()\n"
   ]
  },
  {
   "cell_type": "code",
   "execution_count": null,
   "metadata": {},
   "outputs": [],
   "source": []
  },
  {
   "cell_type": "code",
   "execution_count": 9,
   "metadata": {},
   "outputs": [
    {
     "data": {
      "image/png": "[encoded data removed]",
      "text/plain": [
       "<Figure size 800x500 with 1 Axes>"
      ]
     },
     "metadata": {},
     "output_type": "display_data"
    }
   ],
   "source": [
    "# Count how often each item was viewed vs purchased\n",
    "view_counts = events_df[events_df['event'] == 'view'].groupby('itemid').size().reset_index(name=\"view_count\")\n",
    "purchase_counts = events_df[events_df['event'] == 'transaction'].groupby('itemid').size().reset_index(name=\"purchase_count\")\n",
    "\n",
    "# Merge to analyze the relationship\n",
    "item_popularity = view_counts.merge(purchase_counts, on=\"itemid\", how=\"left\").fillna(0)\n",
    "\n",
    "# Scatterplot to visualize correlation\n",
    "plt.figure(figsize=(8, 5))\n",
    "sns.scatterplot(x=\"view_count\", y=\"purchase_count\", data=item_popularity, alpha=0.5)\n",
    "plt.title(\"Correlation Between Views & Purchases\")\n",
    "plt.xlabel(\"Number of Views\")\n",
    "plt.ylabel(\"Number of Purchases\")\n",
    "plt.show()\n"
   ]
  },
  {
   "cell_type": "markdown",
   "metadata": {},
   "source": [
    "Which Item Categories are Purchased Most?"
   ]
  },
  {
   "cell_type": "code",
   "execution_count": null,
   "metadata": {},
   "outputs": [
    {
     "name": "stdout",
     "output_type": "stream",
     "text": [
      "Processing complete! 🚀\n"
     ]
    }
   ],
   "source": [
    "# Define file paths\n",
    "file_paths = [\"item_properties_part1.1.csv\", \"item_properties_part2.csv\"]\n",
    "\n",
    "# Read in chunks and filter relevant properties\n",
    "chunk_size = 500000  # Adjust for memory efficiency\n",
    "item_properties_list = []\n",
    "\n",
    "for file in file_paths:\n",
    "    chunks = pd.read_csv(file, usecols=['timestamp', 'itemid', 'property', 'value'], chunksize=chunk_size)\n",
    "    \n",
    "    for chunk in chunks:\n",
    "        # Keep only 'categoryid' and 'available' properties\n",
    "        chunk = chunk[chunk['property'].isin(['categoryid', 'available'])]\n",
    "        chunk['timestamp'] = pd.to_datetime(chunk['timestamp'], unit='ms')\n",
    "        item_properties_list.append(chunk)\n",
    "\n",
    "# Combine all chunks\n",
    "item_properties = pd.concat(item_properties_list)\n",
    "\n",
    "# Sort by timestamp to get the latest property values\n",
    "item_properties = item_properties.sort_values(by=['itemid', 'timestamp'], ascending=[True, False])\n",
    "\n",
    "# Remove duplicates: Keep only the latest property for each itemid-property pair\n",
    "item_properties = item_properties.drop_duplicates(subset=['itemid', 'property'], keep='first')\n",
    "\n",
    "# Pivot to get a single row per item\n",
    "item_properties_pivot = item_properties.pivot(index='itemid', columns='property', values='value').reset_index()\n",
    "\n",
    "# Convert categories to categorical types\n",
    "item_properties_pivot['categoryid'] = item_properties_pivot['categoryid'].astype('category')\n",
    "item_properties_pivot['available'] = item_properties_pivot['available'].astype(float).fillna(0).astype(int)\n",
    "\n",
    "# Save cleaned version\n",
    "item_properties_pivot.to_csv(\"chunked_item_properties.csv\", index=False)\n",
    "\n",
    "print(\"Processing complete! 🚀\")\n"
   ]
  },
  {
   "cell_type": "code",
   "execution_count": 16,
   "metadata": {},
   "outputs": [
    {
     "name": "stdout",
     "output_type": "stream",
     "text": [
      "Merging complete! 🚀 File saved as 'merged_chunked_item_properties_events.csv'\n"
     ]
    }
   ],
   "source": [
    "# Load cleaned item properties\n",
    "item_properties = pd.read_csv(\"chunked_item_properties.csv\")\n",
    "\n",
    "# Load events dataset (only required columns)\n",
    "events_df = pd.read_csv(\"events.csv\", usecols=['timestamp', 'visitorid', 'event', 'itemid'])\n",
    "\n",
    "# Merge with item properties (Left Join: Keep all events, add item details)\n",
    "events_with_properties = events_df.merge(item_properties, on=\"itemid\", how=\"left\")\n",
    "\n",
    "# Save merged dataset\n",
    "events_with_properties.to_csv(\"merged_chunked_item_properties_events.csv\", index=False)\n",
    "\n",
    "print(\"Merging complete! 🚀 File saved as 'merged_chunked_item_properties_events.csv'\")\n"
   ]
  },
  {
   "cell_type": "code",
   "execution_count": null,
   "metadata": {},
   "outputs": [
    {
     "name": "stderr",
     "output_type": "stream",
     "text": [
      "C:\\Users\\DELL\\AppData\\Local\\Temp\\ipykernel_11412\\3217388814.py:14: FutureWarning: The default of observed=False is deprecated and will be changed to True in a future version of pandas. Pass observed=False to retain current behavior or observed=True to adopt the future default and silence this warning.\n",
      "  .groupby(\"categoryid\")['event']\n",
      "C:\\Users\\DELL\\AppData\\Local\\Temp\\ipykernel_11412\\3217388814.py:28: FutureWarning: \n",
      "\n",
      "Passing `palette` without assigning `hue` is deprecated and will be removed in v0.14.0. Assign the `x` variable to `hue` and set `legend=False` for the same effect.\n",
      "\n",
      "  sns.barplot(x=\"categoryid\", y=\"event\", data=category_sales, palette=\"viridis\")\n"
     ]
    },
    {
     "data": {
      "image/png": "[encoded data removed]",
      "text/plain": [
       "<Figure size 1200x600 with 1 Axes>"
      ]
     },
     "metadata": {},
     "output_type": "display_data"
    }
   ],
   "source": [
    "# Load merged dataset\n",
    "merged_chunked_events_df = pd.read_csv(\"merged_chunked_item_properties_events.csv\")\n",
    "\n",
    "# Ensure 'categoryid' is treated as a categorical variable\n",
    "merged_chunked_events_df['categoryid'] = merged_chunked_events_df['categoryid'].astype('category')\n",
    "\n",
    "# Count purchases by category\n",
    "category_sales = (\n",
    "    merged_chunked_events_df[merged_chunked_events_df['event'] == 'transaction']\n",
    "    .groupby(\"categoryid\")['event']\n",
    "    .count()\n",
    "    .reset_index()\n",
    ")\n",
    "\n",
    "# Sort and display top 10 purchased categories\n",
    "category_sales = category_sales.sort_values(\"event\", ascending=False).head(10)\n",
    "\n",
    "\n",
    "# Convert categoryid to string (if it's numerical)\n",
    "category_sales[\"categoryid\"] = category_sales[\"categoryid\"].astype(str)\n",
    "\n",
    "# Plot results with adjusted labels\n",
    "plt.figure(figsize=(12, 6))\n",
    "sns.barplot(x=\"categoryid\", y=\"event\", data=category_sales, palette=\"viridis\")\n",
    "\n",
    "plt.title(\"Top 10 Purchased Categories\")\n",
    "plt.xlabel(\"Category ID\")\n",
    "plt.ylabel(\"Number of Purchases\")\n",
    "\n",
    "# Adjust x-axis labels\n",
    "plt.xticks(rotation=45, ha=\"right\")  # Rotate labels to avoid overlap\n",
    "plt.show()\n"
   ]
  },
  {
   "cell_type": "markdown",
   "metadata": {},
   "source": [
    "## Multivariate Analysis"
   ]
  },
  {
   "cell_type": "code",
   "execution_count": 11,
   "metadata": {},
   "outputs": [
    {
     "data": {
      "image/png": "[encoded data removed]",
      "text/plain": [
       "<Figure size 1200x600 with 2 Axes>"
      ]
     },
     "metadata": {},
     "output_type": "display_data"
    }
   ],
   "source": [
    "# Count transactions by hour and event type\n",
    "hourly_events = events_df.groupby([\"hour\", \"event\"]).size().reset_index(name=\"count\")\n",
    "\n",
    "# Heatmap to visualize trends\n",
    "plt.figure(figsize=(12, 6))\n",
    "hour_pivot = hourly_events.pivot(index=\"hour\", columns=\"event\", values=\"count\")  # ✅ Fixed pivot()\n",
    "sns.heatmap(hour_pivot, cmap=\"coolwarm\", annot=True, fmt=\"g\")\n",
    "plt.title(\"Heatmap of User Events by Hour of the Day\")\n",
    "plt.xlabel(\"Event Type\")\n",
    "plt.ylabel(\"Hour of the Day\")\n",
    "plt.show()\n"
   ]
  },
  {
   "cell_type": "code",
   "execution_count": null,
   "metadata": {},
   "outputs": [],
   "source": []
  },
  {
   "cell_type": "markdown",
   "metadata": {},
   "source": [
    "## DATA PREPROCESSING"
   ]
  },
  {
   "cell_type": "code",
   "execution_count": 18,
   "metadata": {},
   "outputs": [
    {
     "data": {
      "application/vnd.microsoft.datawrangler.viewer.v0+json": {
       "columns": [
        {
         "name": "index",
         "rawType": "int64",
         "type": "integer"
        },
        {
         "name": "timestamp",
         "rawType": "int64",
         "type": "integer"
        },
        {
         "name": "itemid",
         "rawType": "int64",
         "type": "integer"
        },
        {
         "name": "property",
         "rawType": "object",
         "type": "string"
        },
        {
         "name": "value",
         "rawType": "object",
         "type": "string"
        }
       ],
       "conversionMethod": "pd.DataFrame",
       "ref": "fc307f8d-d3e0-458c-893d-d1425912f3b7",
       "rows": [
        [
         "0",
         "1435460400000",
         "460429",
         "categoryid",
         "1338"
        ],
        [
         "1",
         "1441508400000",
         "206783",
         "888",
         "1116713 960601 n277.200"
        ],
        [
         "2",
         "1439089200000",
         "395014",
         "400",
         "n552.000 639502 n720.000 424566"
        ],
        [
         "3",
         "1431226800000",
         "59481",
         "790",
         "n15360.000"
        ],
        [
         "4",
         "1431831600000",
         "156781",
         "917",
         "828513"
        ]
       ],
       "shape": {
        "columns": 4,
        "rows": 5
       }
      },
      "text/html": [
       "<div>\n",
       "<style scoped>\n",
       "    .dataframe tbody tr th:only-of-type {\n",
       "        vertical-align: middle;\n",
       "    }\n",
       "\n",
       "    .dataframe tbody tr th {\n",
       "        vertical-align: top;\n",
       "    }\n",
       "\n",
       "    .dataframe thead th {\n",
       "        text-align: right;\n",
       "    }\n",
       "</style>\n",
       "<table border=\"1\" class=\"dataframe\">\n",
       "  <thead>\n",
       "    <tr style=\"text-align: right;\">\n",
       "      <th></th>\n",
       "      <th>timestamp</th>\n",
       "      <th>itemid</th>\n",
       "      <th>property</th>\n",
       "      <th>value</th>\n",
       "    </tr>\n",
       "  </thead>\n",
       "  <tbody>\n",
       "    <tr>\n",
       "      <th>0</th>\n",
       "      <td>1435460400000</td>\n",
       "      <td>460429</td>\n",
       "      <td>categoryid</td>\n",
       "      <td>1338</td>\n",
       "    </tr>\n",
       "    <tr>\n",
       "      <th>1</th>\n",
       "      <td>1441508400000</td>\n",
       "      <td>206783</td>\n",
       "      <td>888</td>\n",
       "      <td>1116713 960601 n277.200</td>\n",
       "    </tr>\n",
       "    <tr>\n",
       "      <th>2</th>\n",
       "      <td>1439089200000</td>\n",
       "      <td>395014</td>\n",
       "      <td>400</td>\n",
       "      <td>n552.000 639502 n720.000 424566</td>\n",
       "    </tr>\n",
       "    <tr>\n",
       "      <th>3</th>\n",
       "      <td>1431226800000</td>\n",
       "      <td>59481</td>\n",
       "      <td>790</td>\n",
       "      <td>n15360.000</td>\n",
       "    </tr>\n",
       "    <tr>\n",
       "      <th>4</th>\n",
       "      <td>1431831600000</td>\n",
       "      <td>156781</td>\n",
       "      <td>917</td>\n",
       "      <td>828513</td>\n",
       "    </tr>\n",
       "  </tbody>\n",
       "</table>\n",
       "</div>"
      ],
      "text/plain": [
       "       timestamp  itemid    property                            value\n",
       "0  1435460400000  460429  categoryid                             1338\n",
       "1  1441508400000  206783         888          1116713 960601 n277.200\n",
       "2  1439089200000  395014         400  n552.000 639502 n720.000 424566\n",
       "3  1431226800000   59481         790                       n15360.000\n",
       "4  1431831600000  156781         917                           828513"
      ]
     },
     "execution_count": 18,
     "metadata": {},
     "output_type": "execute_result"
    }
   ],
   "source": [
    "item_properties.head()"
   ]
  },
  {
   "cell_type": "code",
   "execution_count": 19,
   "metadata": {},
   "outputs": [],
   "source": [
    "# Load datasets\n",
    "item_properties_1 = pd.read_csv(\"item_properties_part1.1.csv\")\n",
    "item_properties_2 = pd.read_csv(\"item_properties_part2.csv\")\n",
    "events_df = pd.read_csv(\"events.csv\")\n",
    "\n",
    "# Merge item properties datasets\n",
    "item_properties_df = pd.concat([item_properties_1, item_properties_2])\n",
    "\n",
    "\n"
   ]
  },
  {
   "cell_type": "code",
   "execution_count": 20,
   "metadata": {},
   "outputs": [
    {
     "name": "stdout",
     "output_type": "stream",
     "text": [
      "<class 'pandas.core.frame.DataFrame'>\n",
      "RangeIndex: 2756101 entries, 0 to 2756100\n",
      "Data columns (total 5 columns):\n",
      " #   Column         Dtype  \n",
      "---  ------         -----  \n",
      " 0   timestamp      int64  \n",
      " 1   visitorid      int64  \n",
      " 2   event          object \n",
      " 3   itemid         int64  \n",
      " 4   transactionid  float64\n",
      "dtypes: float64(1), int64(3), object(1)\n",
      "memory usage: 105.1+ MB\n"
     ]
    }
   ],
   "source": [
    "events_df.info()"
   ]
  },
  {
   "cell_type": "code",
   "execution_count": 21,
   "metadata": {},
   "outputs": [
    {
     "name": "stdout",
     "output_type": "stream",
     "text": [
      "<class 'pandas.core.frame.DataFrame'>\n",
      "Index: 20275902 entries, 0 to 9275902\n",
      "Data columns (total 4 columns):\n",
      " #   Column     Dtype \n",
      "---  ------     ----- \n",
      " 0   timestamp  int64 \n",
      " 1   itemid     int64 \n",
      " 2   property   object\n",
      " 3   value      object\n",
      "dtypes: int64(2), object(2)\n",
      "memory usage: 773.5+ MB\n"
     ]
    }
   ],
   "source": [
    "item_properties_df.info()"
   ]
  },
  {
   "cell_type": "code",
   "execution_count": 22,
   "metadata": {},
   "outputs": [
    {
     "name": "stdout",
     "output_type": "stream",
     "text": [
      "Missing values in item_properties_df:\n",
      "timestamp    0\n",
      "itemid       0\n",
      "property     0\n",
      "value        0\n",
      "dtype: int64\n",
      "\n",
      "Missing values in events_df:\n",
      "timestamp              0\n",
      "visitorid              0\n",
      "event                  0\n",
      "itemid                 0\n",
      "transactionid    2733644\n",
      "dtype: int64\n"
     ]
    }
   ],
   "source": [
    "# Check for missing values\n",
    "print(\"Missing values in item_properties_df:\")\n",
    "print(item_properties_df.isnull().sum())\n",
    "\n",
    "print(\"\\nMissing values in events_df:\")\n",
    "print(events_df.isnull().sum())"
   ]
  },
  {
   "cell_type": "code",
   "execution_count": 25,
   "metadata": {},
   "outputs": [
    {
     "data": {
      "application/vnd.microsoft.datawrangler.viewer.v0+json": {
       "columns": [
        {
         "name": "index",
         "rawType": "int64",
         "type": "integer"
        },
        {
         "name": "timestamp",
         "rawType": "int64",
         "type": "integer"
        },
        {
         "name": "itemid",
         "rawType": "int64",
         "type": "integer"
        },
        {
         "name": "property",
         "rawType": "object",
         "type": "string"
        },
        {
         "name": "value",
         "rawType": "object",
         "type": "string"
        }
       ],
       "conversionMethod": "pd.DataFrame",
       "ref": "e8bc0abd-936d-45cb-8c43-62ca0477f2b2",
       "rows": [
        [
         "0",
         "1435460400000",
         "460429",
         "categoryid",
         "1338"
        ],
        [
         "1",
         "1441508400000",
         "206783",
         "888",
         "1116713 960601 n277.200"
        ],
        [
         "2",
         "1439089200000",
         "395014",
         "400",
         "n552.000 639502 n720.000 424566"
        ],
        [
         "3",
         "1431226800000",
         "59481",
         "790",
         "n15360.000"
        ],
        [
         "4",
         "1431831600000",
         "156781",
         "917",
         "828513"
        ]
       ],
       "shape": {
        "columns": 4,
        "rows": 5
       }
      },
      "text/html": [
       "<div>\n",
       "<style scoped>\n",
       "    .dataframe tbody tr th:only-of-type {\n",
       "        vertical-align: middle;\n",
       "    }\n",
       "\n",
       "    .dataframe tbody tr th {\n",
       "        vertical-align: top;\n",
       "    }\n",
       "\n",
       "    .dataframe thead th {\n",
       "        text-align: right;\n",
       "    }\n",
       "</style>\n",
       "<table border=\"1\" class=\"dataframe\">\n",
       "  <thead>\n",
       "    <tr style=\"text-align: right;\">\n",
       "      <th></th>\n",
       "      <th>timestamp</th>\n",
       "      <th>itemid</th>\n",
       "      <th>property</th>\n",
       "      <th>value</th>\n",
       "    </tr>\n",
       "  </thead>\n",
       "  <tbody>\n",
       "    <tr>\n",
       "      <th>0</th>\n",
       "      <td>1435460400000</td>\n",
       "      <td>460429</td>\n",
       "      <td>categoryid</td>\n",
       "      <td>1338</td>\n",
       "    </tr>\n",
       "    <tr>\n",
       "      <th>1</th>\n",
       "      <td>1441508400000</td>\n",
       "      <td>206783</td>\n",
       "      <td>888</td>\n",
       "      <td>1116713 960601 n277.200</td>\n",
       "    </tr>\n",
       "    <tr>\n",
       "      <th>2</th>\n",
       "      <td>1439089200000</td>\n",
       "      <td>395014</td>\n",
       "      <td>400</td>\n",
       "      <td>n552.000 639502 n720.000 424566</td>\n",
       "    </tr>\n",
       "    <tr>\n",
       "      <th>3</th>\n",
       "      <td>1431226800000</td>\n",
       "      <td>59481</td>\n",
       "      <td>790</td>\n",
       "      <td>n15360.000</td>\n",
       "    </tr>\n",
       "    <tr>\n",
       "      <th>4</th>\n",
       "      <td>1431831600000</td>\n",
       "      <td>156781</td>\n",
       "      <td>917</td>\n",
       "      <td>828513</td>\n",
       "    </tr>\n",
       "  </tbody>\n",
       "</table>\n",
       "</div>"
      ],
      "text/plain": [
       "       timestamp  itemid    property                            value\n",
       "0  1435460400000  460429  categoryid                             1338\n",
       "1  1441508400000  206783         888          1116713 960601 n277.200\n",
       "2  1439089200000  395014         400  n552.000 639502 n720.000 424566\n",
       "3  1431226800000   59481         790                       n15360.000\n",
       "4  1431831600000  156781         917                           828513"
      ]
     },
     "execution_count": 25,
     "metadata": {},
     "output_type": "execute_result"
    }
   ],
   "source": [
    "item_properties_df.head()"
   ]
  },
  {
   "cell_type": "code",
   "execution_count": 26,
   "metadata": {},
   "outputs": [
    {
     "data": {
      "application/vnd.microsoft.datawrangler.viewer.v0+json": {
       "columns": [
        {
         "name": "index",
         "rawType": "int64",
         "type": "integer"
        },
        {
         "name": "timestamp",
         "rawType": "int64",
         "type": "integer"
        },
        {
         "name": "visitorid",
         "rawType": "int64",
         "type": "integer"
        },
        {
         "name": "event",
         "rawType": "object",
         "type": "string"
        },
        {
         "name": "itemid",
         "rawType": "int64",
         "type": "integer"
        },
        {
         "name": "transactionid",
         "rawType": "float64",
         "type": "float"
        }
       ],
       "conversionMethod": "pd.DataFrame",
       "ref": "19c29d50-eed5-4b68-b73d-f1510616c85b",
       "rows": [
        [
         "0",
         "1433221332117",
         "257597",
         "view",
         "355908",
         null
        ],
        [
         "1",
         "1433224214164",
         "992329",
         "view",
         "248676",
         null
        ],
        [
         "2",
         "1433221999827",
         "111016",
         "view",
         "318965",
         null
        ],
        [
         "3",
         "1433221955914",
         "483717",
         "view",
         "253185",
         null
        ],
        [
         "4",
         "1433221337106",
         "951259",
         "view",
         "367447",
         null
        ]
       ],
       "shape": {
        "columns": 5,
        "rows": 5
       }
      },
      "text/html": [
       "<div>\n",
       "<style scoped>\n",
       "    .dataframe tbody tr th:only-of-type {\n",
       "        vertical-align: middle;\n",
       "    }\n",
       "\n",
       "    .dataframe tbody tr th {\n",
       "        vertical-align: top;\n",
       "    }\n",
       "\n",
       "    .dataframe thead th {\n",
       "        text-align: right;\n",
       "    }\n",
       "</style>\n",
       "<table border=\"1\" class=\"dataframe\">\n",
       "  <thead>\n",
       "    <tr style=\"text-align: right;\">\n",
       "      <th></th>\n",
       "      <th>timestamp</th>\n",
       "      <th>visitorid</th>\n",
       "      <th>event</th>\n",
       "      <th>itemid</th>\n",
       "      <th>transactionid</th>\n",
       "    </tr>\n",
       "  </thead>\n",
       "  <tbody>\n",
       "    <tr>\n",
       "      <th>0</th>\n",
       "      <td>1433221332117</td>\n",
       "      <td>257597</td>\n",
       "      <td>view</td>\n",
       "      <td>355908</td>\n",
       "      <td>NaN</td>\n",
       "    </tr>\n",
       "    <tr>\n",
       "      <th>1</th>\n",
       "      <td>1433224214164</td>\n",
       "      <td>992329</td>\n",
       "      <td>view</td>\n",
       "      <td>248676</td>\n",
       "      <td>NaN</td>\n",
       "    </tr>\n",
       "    <tr>\n",
       "      <th>2</th>\n",
       "      <td>1433221999827</td>\n",
       "      <td>111016</td>\n",
       "      <td>view</td>\n",
       "      <td>318965</td>\n",
       "      <td>NaN</td>\n",
       "    </tr>\n",
       "    <tr>\n",
       "      <th>3</th>\n",
       "      <td>1433221955914</td>\n",
       "      <td>483717</td>\n",
       "      <td>view</td>\n",
       "      <td>253185</td>\n",
       "      <td>NaN</td>\n",
       "    </tr>\n",
       "    <tr>\n",
       "      <th>4</th>\n",
       "      <td>1433221337106</td>\n",
       "      <td>951259</td>\n",
       "      <td>view</td>\n",
       "      <td>367447</td>\n",
       "      <td>NaN</td>\n",
       "    </tr>\n",
       "  </tbody>\n",
       "</table>\n",
       "</div>"
      ],
      "text/plain": [
       "       timestamp  visitorid event  itemid  transactionid\n",
       "0  1433221332117     257597  view  355908            NaN\n",
       "1  1433224214164     992329  view  248676            NaN\n",
       "2  1433221999827     111016  view  318965            NaN\n",
       "3  1433221955914     483717  view  253185            NaN\n",
       "4  1433221337106     951259  view  367447            NaN"
      ]
     },
     "execution_count": 26,
     "metadata": {},
     "output_type": "execute_result"
    }
   ],
   "source": [
    "events_df.head()"
   ]
  },
  {
   "cell_type": "code",
   "execution_count": 23,
   "metadata": {},
   "outputs": [
    {
     "name": "stdout",
     "output_type": "stream",
     "text": [
      "\n",
      "Duplicate rows in item_properties_df: 0\n",
      "Duplicate rows in events_df: 460\n"
     ]
    }
   ],
   "source": [
    "# Check for duplicates\n",
    "print(\"\\nDuplicate rows in item_properties_df:\", item_properties_df.duplicated().sum())\n",
    "print(\"Duplicate rows in events_df:\", events_df.duplicated().sum())\n"
   ]
  },
  {
   "cell_type": "code",
   "execution_count": 30,
   "metadata": {},
   "outputs": [
    {
     "name": "stdout",
     "output_type": "stream",
     "text": [
      "Shape of item_properties_df: (20275902, 4)\n",
      "Shape of events_df: (2756101, 5)\n"
     ]
    }
   ],
   "source": [
    "# Check the shape (rows, columns) of both datasets\n",
    "print(\"Shape of item_properties_df:\", item_properties_df.shape)\n",
    "print(\"Shape of events_df:\", events_df.shape)\n"
   ]
  },
  {
   "cell_type": "code",
   "execution_count": 31,
   "metadata": {},
   "outputs": [
    {
     "name": "stdout",
     "output_type": "stream",
     "text": [
      "Shape of events_df: (2755641, 5)\n"
     ]
    }
   ],
   "source": [
    "# Drop duplicate rows in events_df\n",
    "events_df = events_df.drop_duplicates()\n",
    "\n",
    "# Check the shape (rows, columns) of the updated events dataset\n",
    "print(\"Shape of events_df:\", events_df.shape)\n"
   ]
  },
  {
   "cell_type": "code",
   "execution_count": 43,
   "metadata": {},
   "outputs": [
    {
     "data": {
      "application/vnd.microsoft.datawrangler.viewer.v0+json": {
       "columns": [
        {
         "name": "index",
         "rawType": "int64",
         "type": "integer"
        },
        {
         "name": "timestamp",
         "rawType": "int64",
         "type": "integer"
        },
        {
         "name": "visitorid",
         "rawType": "int64",
         "type": "integer"
        },
        {
         "name": "event",
         "rawType": "object",
         "type": "string"
        },
        {
         "name": "itemid",
         "rawType": "int64",
         "type": "integer"
        },
        {
         "name": "transactionid",
         "rawType": "float64",
         "type": "float"
        }
       ],
       "conversionMethod": "pd.DataFrame",
       "ref": "4c5b491b-4054-4491-942f-c73441393572",
       "rows": [
        [
         "0",
         "1433221332117",
         "257597",
         "view",
         "355908",
         null
        ],
        [
         "1",
         "1433224214164",
         "992329",
         "view",
         "248676",
         null
        ],
        [
         "2",
         "1433221999827",
         "111016",
         "view",
         "318965",
         null
        ],
        [
         "3",
         "1433221955914",
         "483717",
         "view",
         "253185",
         null
        ],
        [
         "4",
         "1433221337106",
         "951259",
         "view",
         "367447",
         null
        ]
       ],
       "shape": {
        "columns": 5,
        "rows": 5
       }
      },
      "text/html": [
       "<div>\n",
       "<style scoped>\n",
       "    .dataframe tbody tr th:only-of-type {\n",
       "        vertical-align: middle;\n",
       "    }\n",
       "\n",
       "    .dataframe tbody tr th {\n",
       "        vertical-align: top;\n",
       "    }\n",
       "\n",
       "    .dataframe thead th {\n",
       "        text-align: right;\n",
       "    }\n",
       "</style>\n",
       "<table border=\"1\" class=\"dataframe\">\n",
       "  <thead>\n",
       "    <tr style=\"text-align: right;\">\n",
       "      <th></th>\n",
       "      <th>timestamp</th>\n",
       "      <th>visitorid</th>\n",
       "      <th>event</th>\n",
       "      <th>itemid</th>\n",
       "      <th>transactionid</th>\n",
       "    </tr>\n",
       "  </thead>\n",
       "  <tbody>\n",
       "    <tr>\n",
       "      <th>0</th>\n",
       "      <td>1433221332117</td>\n",
       "      <td>257597</td>\n",
       "      <td>view</td>\n",
       "      <td>355908</td>\n",
       "      <td>NaN</td>\n",
       "    </tr>\n",
       "    <tr>\n",
       "      <th>1</th>\n",
       "      <td>1433224214164</td>\n",
       "      <td>992329</td>\n",
       "      <td>view</td>\n",
       "      <td>248676</td>\n",
       "      <td>NaN</td>\n",
       "    </tr>\n",
       "    <tr>\n",
       "      <th>2</th>\n",
       "      <td>1433221999827</td>\n",
       "      <td>111016</td>\n",
       "      <td>view</td>\n",
       "      <td>318965</td>\n",
       "      <td>NaN</td>\n",
       "    </tr>\n",
       "    <tr>\n",
       "      <th>3</th>\n",
       "      <td>1433221955914</td>\n",
       "      <td>483717</td>\n",
       "      <td>view</td>\n",
       "      <td>253185</td>\n",
       "      <td>NaN</td>\n",
       "    </tr>\n",
       "    <tr>\n",
       "      <th>4</th>\n",
       "      <td>1433221337106</td>\n",
       "      <td>951259</td>\n",
       "      <td>view</td>\n",
       "      <td>367447</td>\n",
       "      <td>NaN</td>\n",
       "    </tr>\n",
       "  </tbody>\n",
       "</table>\n",
       "</div>"
      ],
      "text/plain": [
       "       timestamp  visitorid event  itemid  transactionid\n",
       "0  1433221332117     257597  view  355908            NaN\n",
       "1  1433224214164     992329  view  248676            NaN\n",
       "2  1433221999827     111016  view  318965            NaN\n",
       "3  1433221955914     483717  view  253185            NaN\n",
       "4  1433221337106     951259  view  367447            NaN"
      ]
     },
     "execution_count": 43,
     "metadata": {},
     "output_type": "execute_result"
    }
   ],
   "source": [
    "events_df.head()"
   ]
  },
  {
   "cell_type": "code",
   "execution_count": 41,
   "metadata": {},
   "outputs": [
    {
     "name": "stdout",
     "output_type": "stream",
     "text": [
      "\n",
      "Missing values in events_df:\n",
      "timestamp              0\n",
      "visitorid              0\n",
      "event                  0\n",
      "itemid                 0\n",
      "transactionid    2733184\n",
      "dtype: int64\n",
      "Duplicate rows in events_df: 0\n"
     ]
    }
   ],
   "source": [
    "\n",
    "# confirm changes\n",
    "# Check for missing values\n",
    "print(\"\\nMissing values in events_df:\")\n",
    "print(events_df.isnull().sum())\n",
    "\n",
    "# Check for duplicate rows\n",
    "print(\"Duplicate rows in events_df:\", events_df.duplicated().sum())\n"
   ]
  },
  {
   "cell_type": "code",
   "execution_count": 44,
   "metadata": {},
   "outputs": [
    {
     "name": "stdout",
     "output_type": "stream",
     "text": [
      "\n",
      "Cleaning completed! File saved as 'cleaned_event.csv'.\n"
     ]
    }
   ],
   "source": [
    "# Save the cleaned event dataset\n",
    "events_df.to_csv(\"cleaned_event.csv\", index=False)\n",
    "\n",
    "print(\"\\nCleaning completed! File saved as 'cleaned_event.csv'.\")\n",
    "\n",
    "\n"
   ]
  },
  {
   "cell_type": "code",
   "execution_count": null,
   "metadata": {},
   "outputs": [],
   "source": []
  },
  {
   "cell_type": "code",
   "execution_count": null,
   "metadata": {},
   "outputs": [],
   "source": [
    "# Load events dataset using Dask\n",
    "events_df = dd.read_csv(\"cleaned_event.csv\")\n",
    "\n",
    "# Ensure item_properties_df is a Dask DataFrame (convert from Pandas if needed)\n",
    "if not isinstance(item_properties_df, dd.DataFrame):\n",
    "    item_properties_df = dd.from_pandas(item_properties_df, npartitions=10)  # Adjust partitions based on memory\n",
    "\n",
    "# Merge events with item properties on 'itemid'\n",
    "merged_df = dd.merge(events_df, item_properties_df, on=\"itemid\", how=\"left\")"
   ]
  },
  {
   "cell_type": "code",
   "execution_count": 50,
   "metadata": {},
   "outputs": [
    {
     "name": "stdout",
     "output_type": "stream",
     "text": [
      "Shape of merged_df: (28318907, 8)\n"
     ]
    }
   ],
   "source": [
    "# Compute the shape (rows, columns)\n",
    "num_rows, num_cols = merged_df.shape\n",
    "print(f\"Shape of merged_df: ({num_rows.compute()}, {num_cols})\")"
   ]
  },
  {
   "cell_type": "code",
   "execution_count": 46,
   "metadata": {},
   "outputs": [
    {
     "name": "stdout",
     "output_type": "stream",
     "text": [
      "Merging completed with Dask! File saved as 'merged_events_item_properties_dask.csv'.\n"
     ]
    }
   ],
   "source": [
    "#  Save the merged dataset to CSV\n",
    "merged_df.to_csv(\"merged_events_item_properties_dask.csv\", index=False, single_file=True)\n",
    "\n",
    "print(\"Merging completed with Dask! File saved as 'merged_events_item_properties_dask.csv'.\")\n"
   ]
  },
  {
   "cell_type": "code",
   "execution_count": null,
   "metadata": {},
   "outputs": [
    {
     "data": {
      "application/vnd.microsoft.datawrangler.viewer.v0+json": {
       "columns": [
        {
         "name": "index",
         "rawType": "int64",
         "type": "integer"
        },
        {
         "name": "timestamp_x",
         "rawType": "int64",
         "type": "integer"
        },
        {
         "name": "visitorid",
         "rawType": "int64",
         "type": "integer"
        },
        {
         "name": "event",
         "rawType": "string",
         "type": "string"
        },
        {
         "name": "itemid",
         "rawType": "int64",
         "type": "integer"
        },
        {
         "name": "transactionid",
         "rawType": "float64",
         "type": "float"
        },
        {
         "name": "timestamp_y",
         "rawType": "float64",
         "type": "float"
        },
        {
         "name": "property",
         "rawType": "string",
         "type": "string"
        },
        {
         "name": "value",
         "rawType": "float64",
         "type": "float"
        }
       ],
       "conversionMethod": "pd.DataFrame",
       "ref": "f03c4a7a-64bb-4ba5-b661-3183921e0b5f",
       "rows": [
        [
         "0",
         "1433221999827",
         "111016",
         "view",
         "318965",
         null,
         null,
         null,
         null
        ],
        [
         "1",
         "1433221923240",
         "810725",
         "view",
         "443030",
         null,
         "1431831600000.0",
         "categoryid",
         "1098.0"
        ],
        [
         "2",
         "1433221923240",
         "810725",
         "view",
         "443030",
         null,
         "1431226800000.0",
         "available",
         "1.0"
        ],
        [
         "3",
         "1433223291897",
         "794181",
         "view",
         "439202",
         null,
         "1431226800000.0",
         "categoryid",
         "1542.0"
        ],
        [
         "4",
         "1433223291897",
         "794181",
         "view",
         "439202",
         null,
         "1431226800000.0",
         "available",
         "1.0"
        ]
       ],
       "shape": {
        "columns": 8,
        "rows": 5
       }
      },
      "text/html": [
       "<div>\n",
       "<style scoped>\n",
       "    .dataframe tbody tr th:only-of-type {\n",
       "        vertical-align: middle;\n",
       "    }\n",
       "\n",
       "    .dataframe tbody tr th {\n",
       "        vertical-align: top;\n",
       "    }\n",
       "\n",
       "    .dataframe thead th {\n",
       "        text-align: right;\n",
       "    }\n",
       "</style>\n",
       "<table border=\"1\" class=\"dataframe\">\n",
       "  <thead>\n",
       "    <tr style=\"text-align: right;\">\n",
       "      <th></th>\n",
       "      <th>timestamp_x</th>\n",
       "      <th>visitorid</th>\n",
       "      <th>event</th>\n",
       "      <th>itemid</th>\n",
       "      <th>transactionid</th>\n",
       "      <th>timestamp_y</th>\n",
       "      <th>property</th>\n",
       "      <th>value</th>\n",
       "    </tr>\n",
       "  </thead>\n",
       "  <tbody>\n",
       "    <tr>\n",
       "      <th>0</th>\n",
       "      <td>1433221999827</td>\n",
       "      <td>111016</td>\n",
       "      <td>view</td>\n",
       "      <td>318965</td>\n",
       "      <td>NaN</td>\n",
       "      <td>NaN</td>\n",
       "      <td>&lt;NA&gt;</td>\n",
       "      <td>NaN</td>\n",
       "    </tr>\n",
       "    <tr>\n",
       "      <th>1</th>\n",
       "      <td>1433221923240</td>\n",
       "      <td>810725</td>\n",
       "      <td>view</td>\n",
       "      <td>443030</td>\n",
       "      <td>NaN</td>\n",
       "      <td>1.431832e+12</td>\n",
       "      <td>categoryid</td>\n",
       "      <td>1098.0</td>\n",
       "    </tr>\n",
       "    <tr>\n",
       "      <th>2</th>\n",
       "      <td>1433221923240</td>\n",
       "      <td>810725</td>\n",
       "      <td>view</td>\n",
       "      <td>443030</td>\n",
       "      <td>NaN</td>\n",
       "      <td>1.431227e+12</td>\n",
       "      <td>available</td>\n",
       "      <td>1.0</td>\n",
       "    </tr>\n",
       "    <tr>\n",
       "      <th>3</th>\n",
       "      <td>1433223291897</td>\n",
       "      <td>794181</td>\n",
       "      <td>view</td>\n",
       "      <td>439202</td>\n",
       "      <td>NaN</td>\n",
       "      <td>1.431227e+12</td>\n",
       "      <td>categoryid</td>\n",
       "      <td>1542.0</td>\n",
       "    </tr>\n",
       "    <tr>\n",
       "      <th>4</th>\n",
       "      <td>1433223291897</td>\n",
       "      <td>794181</td>\n",
       "      <td>view</td>\n",
       "      <td>439202</td>\n",
       "      <td>NaN</td>\n",
       "      <td>1.431227e+12</td>\n",
       "      <td>available</td>\n",
       "      <td>1.0</td>\n",
       "    </tr>\n",
       "  </tbody>\n",
       "</table>\n",
       "</div>"
      ],
      "text/plain": [
       "     timestamp_x  visitorid event  itemid  transactionid   timestamp_y  \\\n",
       "0  1433221999827     111016  view  318965            NaN           NaN   \n",
       "1  1433221923240     810725  view  443030            NaN  1.431832e+12   \n",
       "2  1433221923240     810725  view  443030            NaN  1.431227e+12   \n",
       "3  1433223291897     794181  view  439202            NaN  1.431227e+12   \n",
       "4  1433223291897     794181  view  439202            NaN  1.431227e+12   \n",
       "\n",
       "     property   value  \n",
       "0        <NA>     NaN  \n",
       "1  categoryid  1098.0  \n",
       "2   available     1.0  \n",
       "3  categoryid  1542.0  \n",
       "4   available     1.0  "
      ]
     },
     "execution_count": 52,
     "metadata": {},
     "output_type": "execute_result"
    }
   ],
   "source": [
    "merged_df.head()"
   ]
  },
  {
   "cell_type": "code",
   "execution_count": 57,
   "metadata": {},
   "outputs": [
    {
     "data": {
      "text/plain": [
       "Index(['timestamp_x', 'visitorid', 'event', 'itemid', 'transactionid',\n",
       "       'property', 'value'],\n",
       "      dtype='object')"
      ]
     },
     "execution_count": 57,
     "metadata": {},
     "output_type": "execute_result"
    }
   ],
   "source": [
    "merged_df.columns"
   ]
  },
  {
   "cell_type": "code",
   "execution_count": null,
   "metadata": {},
   "outputs": [
    {
     "name": "stdout",
     "output_type": "stream",
     "text": [
      "Missing values in merged_df:\n",
      " timestamp_x             0\n",
      "visitorid               0\n",
      "event                   0\n",
      "itemid                  0\n",
      "transactionid    28008721\n",
      "property           255576\n",
      "value              255576\n",
      "dtype: int64\n",
      "\n",
      "Number of duplicate rows in merged_df: 21660915\n"
     ]
    }
   ],
   "source": [
    "# Check for missing values\n",
    "missing_values = merged_df.isnull().sum().compute()\n",
    "print(\"Missing values in merged_df:\\n\", missing_values)\n",
    "\n",
    "# Count total rows before dropping duplicates\n",
    "total_rows_before = merged_df.shape[0].compute()\n",
    "\n",
    "# Drop duplicates\n",
    "merged_df_no_duplicates = merged_df.drop_duplicates()\n",
    "\n",
    "# Count total rows after dropping duplicates\n",
    "total_rows_after = merged_df_no_duplicates.shape[0].compute()\n",
    "\n",
    "# Calculate duplicate count\n",
    "duplicate_count = total_rows_before - total_rows_after\n",
    "print(\"\\nNumber of duplicate rows in merged_df:\", duplicate_count)\n"
   ]
  },
  {
   "cell_type": "code",
   "execution_count": null,
   "metadata": {},
   "outputs": [
    {
     "name": "stdout",
     "output_type": "stream",
     "text": [
      "\n",
      "✅ Cleaning completed! File saved as 'cleaned_merged_events_item_properties.csv'.\n"
     ]
    }
   ],
   "source": [
    "# Drop duplicate rows\n",
    "merged_df = merged_df.drop_duplicates()\n",
    "\n",
    "# Handle missing values\n",
    "merged_df[\"property\"] = merged_df[\"property\"].fillna(\"Unknown\")\n",
    "merged_df[\"value\"] = merged_df[\"value\"].fillna(\"Unknown\")\n",
    "merged_df[\"transactionid\"] = merged_df[\"transactionid\"].fillna(0)  # Keep as 0 if no purchase\n",
    "\n",
    "# Create `is_transaction` column\n",
    "merged_df[\"is_transaction\"] = merged_df[\"transactionid\"].apply(lambda x: 1 if x != 0 else 0, meta=('x', 'int64'))\n",
    "\n",
    "# Save the cleaned dataset\n",
    "merged_df.to_csv(\"cleaned_merged_events_item_properties.csv\", index=False, single_file=True)\n",
    "\n",
    "print(\"\\n✅ Cleaning completed! File saved as 'cleaned_merged_events_item_properties.csv'.\")\n"
   ]
  },
  {
   "cell_type": "code",
   "execution_count": 63,
   "metadata": {},
   "outputs": [
    {
     "name": "stdout",
     "output_type": "stream",
     "text": [
      "Shape of merged_df: (6657992, 8)\n"
     ]
    }
   ],
   "source": [
    "# confirm changes\n",
    "# Compute the shape (rows, columns)\n",
    "num_rows, num_cols = merged_df.shape\n",
    "print(f\"Shape of merged_df: ({num_rows.compute()}, {num_cols})\")"
   ]
  },
  {
   "cell_type": "code",
   "execution_count": 64,
   "metadata": {},
   "outputs": [
    {
     "data": {
      "application/vnd.microsoft.datawrangler.viewer.v0+json": {
       "columns": [
        {
         "name": "index",
         "rawType": "int64",
         "type": "integer"
        },
        {
         "name": "timestamp_x",
         "rawType": "int64",
         "type": "integer"
        },
        {
         "name": "visitorid",
         "rawType": "int64",
         "type": "integer"
        },
        {
         "name": "event",
         "rawType": "string",
         "type": "string"
        },
        {
         "name": "itemid",
         "rawType": "int64",
         "type": "integer"
        },
        {
         "name": "transactionid",
         "rawType": "float64",
         "type": "float"
        },
        {
         "name": "property",
         "rawType": "string",
         "type": "string"
        },
        {
         "name": "value",
         "rawType": "float64",
         "type": "float"
        },
        {
         "name": "is_transaction",
         "rawType": "int64",
         "type": "integer"
        }
       ],
       "conversionMethod": "pd.DataFrame",
       "ref": "f75d87e8-4ff7-49b4-b7b4-09dae840f082",
       "rows": [
        [
         "53",
         "1433220897977",
         "1217827",
         "view",
         "203231",
         "0.0",
         "categoryid",
         "84.0",
         "0"
        ],
        [
         "467",
         "1433216876714",
         "1205474",
         "view",
         "123986",
         "0.0",
         "categoryid",
         "1663.0",
         "0"
        ],
        [
         "553",
         "1433218154553",
         "1041483",
         "view",
         "89977",
         "0.0",
         "categoryid",
         "516.0",
         "0"
        ],
        [
         "743",
         "1433173152057",
         "556273",
         "view",
         "152085",
         "0.0",
         "available",
         "1.0",
         "0"
        ],
        [
         "813",
         "1433173362711",
         "294858",
         "view",
         "245879",
         "0.0",
         "categoryid",
         "47.0",
         "0"
        ]
       ],
       "shape": {
        "columns": 8,
        "rows": 5
       }
      },
      "text/html": [
       "<div>\n",
       "<style scoped>\n",
       "    .dataframe tbody tr th:only-of-type {\n",
       "        vertical-align: middle;\n",
       "    }\n",
       "\n",
       "    .dataframe tbody tr th {\n",
       "        vertical-align: top;\n",
       "    }\n",
       "\n",
       "    .dataframe thead th {\n",
       "        text-align: right;\n",
       "    }\n",
       "</style>\n",
       "<table border=\"1\" class=\"dataframe\">\n",
       "  <thead>\n",
       "    <tr style=\"text-align: right;\">\n",
       "      <th></th>\n",
       "      <th>timestamp_x</th>\n",
       "      <th>visitorid</th>\n",
       "      <th>event</th>\n",
       "      <th>itemid</th>\n",
       "      <th>transactionid</th>\n",
       "      <th>property</th>\n",
       "      <th>value</th>\n",
       "      <th>is_transaction</th>\n",
       "    </tr>\n",
       "  </thead>\n",
       "  <tbody>\n",
       "    <tr>\n",
       "      <th>53</th>\n",
       "      <td>1433220897977</td>\n",
       "      <td>1217827</td>\n",
       "      <td>view</td>\n",
       "      <td>203231</td>\n",
       "      <td>0.0</td>\n",
       "      <td>categoryid</td>\n",
       "      <td>84.0</td>\n",
       "      <td>0</td>\n",
       "    </tr>\n",
       "    <tr>\n",
       "      <th>467</th>\n",
       "      <td>1433216876714</td>\n",
       "      <td>1205474</td>\n",
       "      <td>view</td>\n",
       "      <td>123986</td>\n",
       "      <td>0.0</td>\n",
       "      <td>categoryid</td>\n",
       "      <td>1663.0</td>\n",
       "      <td>0</td>\n",
       "    </tr>\n",
       "    <tr>\n",
       "      <th>553</th>\n",
       "      <td>1433218154553</td>\n",
       "      <td>1041483</td>\n",
       "      <td>view</td>\n",
       "      <td>89977</td>\n",
       "      <td>0.0</td>\n",
       "      <td>categoryid</td>\n",
       "      <td>516.0</td>\n",
       "      <td>0</td>\n",
       "    </tr>\n",
       "    <tr>\n",
       "      <th>743</th>\n",
       "      <td>1433173152057</td>\n",
       "      <td>556273</td>\n",
       "      <td>view</td>\n",
       "      <td>152085</td>\n",
       "      <td>0.0</td>\n",
       "      <td>available</td>\n",
       "      <td>1.0</td>\n",
       "      <td>0</td>\n",
       "    </tr>\n",
       "    <tr>\n",
       "      <th>813</th>\n",
       "      <td>1433173362711</td>\n",
       "      <td>294858</td>\n",
       "      <td>view</td>\n",
       "      <td>245879</td>\n",
       "      <td>0.0</td>\n",
       "      <td>categoryid</td>\n",
       "      <td>47.0</td>\n",
       "      <td>0</td>\n",
       "    </tr>\n",
       "  </tbody>\n",
       "</table>\n",
       "</div>"
      ],
      "text/plain": [
       "       timestamp_x  visitorid event  itemid  transactionid    property  \\\n",
       "53   1433220897977    1217827  view  203231            0.0  categoryid   \n",
       "467  1433216876714    1205474  view  123986            0.0  categoryid   \n",
       "553  1433218154553    1041483  view   89977            0.0  categoryid   \n",
       "743  1433173152057     556273  view  152085            0.0   available   \n",
       "813  1433173362711     294858  view  245879            0.0  categoryid   \n",
       "\n",
       "      value  is_transaction  \n",
       "53     84.0               0  \n",
       "467  1663.0               0  \n",
       "553   516.0               0  \n",
       "743     1.0               0  \n",
       "813    47.0               0  "
      ]
     },
     "execution_count": 64,
     "metadata": {},
     "output_type": "execute_result"
    }
   ],
   "source": [
    "merged_df.head()"
   ]
  },
  {
   "cell_type": "markdown",
   "metadata": {},
   "source": [
    "## FEATURE ENGINEERING"
   ]
  },
  {
   "cell_type": "markdown",
   "metadata": {},
   "source": [
    "### ANOMALY DETECTION"
   ]
  },
  {
   "cell_type": "code",
   "execution_count": null,
   "metadata": {},
   "outputs": [
    {
     "data": {
      "application/vnd.microsoft.datawrangler.viewer.v0+json": {
       "columns": [
        {
         "name": "index",
         "rawType": "int64",
         "type": "integer"
        },
        {
         "name": "timestamp",
         "rawType": "datetime64[ns]",
         "type": "datetime"
        },
        {
         "name": "visitorid",
         "rawType": "int64",
         "type": "integer"
        },
        {
         "name": "event",
         "rawType": "string",
         "type": "string"
        },
        {
         "name": "itemid",
         "rawType": "int64",
         "type": "integer"
        },
        {
         "name": "transactionid",
         "rawType": "float64",
         "type": "float"
        }
       ],
       "conversionMethod": "pd.DataFrame",
       "ref": "40d2e9c5-5b2b-44a9-9f1a-2a8e92463bcd",
       "rows": [
        [
         "0",
         "2015-06-02 05:02:12.117000",
         "257597",
         "view",
         "355908",
         null
        ],
        [
         "1",
         "2015-06-02 05:50:14.164000",
         "992329",
         "view",
         "248676",
         null
        ],
        [
         "2",
         "2015-06-02 05:13:19.827000",
         "111016",
         "view",
         "318965",
         null
        ],
        [
         "3",
         "2015-06-02 05:12:35.914000",
         "483717",
         "view",
         "253185",
         null
        ],
        [
         "4",
         "2015-06-02 05:02:17.106000",
         "951259",
         "view",
         "367447",
         null
        ]
       ],
       "shape": {
        "columns": 5,
        "rows": 5
       }
      },
      "text/html": [
       "<div>\n",
       "<style scoped>\n",
       "    .dataframe tbody tr th:only-of-type {\n",
       "        vertical-align: middle;\n",
       "    }\n",
       "\n",
       "    .dataframe tbody tr th {\n",
       "        vertical-align: top;\n",
       "    }\n",
       "\n",
       "    .dataframe thead th {\n",
       "        text-align: right;\n",
       "    }\n",
       "</style>\n",
       "<table border=\"1\" class=\"dataframe\">\n",
       "  <thead>\n",
       "    <tr style=\"text-align: right;\">\n",
       "      <th></th>\n",
       "      <th>timestamp</th>\n",
       "      <th>visitorid</th>\n",
       "      <th>event</th>\n",
       "      <th>itemid</th>\n",
       "      <th>transactionid</th>\n",
       "    </tr>\n",
       "  </thead>\n",
       "  <tbody>\n",
       "    <tr>\n",
       "      <th>0</th>\n",
       "      <td>2015-06-02 05:02:12.117</td>\n",
       "      <td>257597</td>\n",
       "      <td>view</td>\n",
       "      <td>355908</td>\n",
       "      <td>NaN</td>\n",
       "    </tr>\n",
       "    <tr>\n",
       "      <th>1</th>\n",
       "      <td>2015-06-02 05:50:14.164</td>\n",
       "      <td>992329</td>\n",
       "      <td>view</td>\n",
       "      <td>248676</td>\n",
       "      <td>NaN</td>\n",
       "    </tr>\n",
       "    <tr>\n",
       "      <th>2</th>\n",
       "      <td>2015-06-02 05:13:19.827</td>\n",
       "      <td>111016</td>\n",
       "      <td>view</td>\n",
       "      <td>318965</td>\n",
       "      <td>NaN</td>\n",
       "    </tr>\n",
       "    <tr>\n",
       "      <th>3</th>\n",
       "      <td>2015-06-02 05:12:35.914</td>\n",
       "      <td>483717</td>\n",
       "      <td>view</td>\n",
       "      <td>253185</td>\n",
       "      <td>NaN</td>\n",
       "    </tr>\n",
       "    <tr>\n",
       "      <th>4</th>\n",
       "      <td>2015-06-02 05:02:17.106</td>\n",
       "      <td>951259</td>\n",
       "      <td>view</td>\n",
       "      <td>367447</td>\n",
       "      <td>NaN</td>\n",
       "    </tr>\n",
       "  </tbody>\n",
       "</table>\n",
       "</div>"
      ],
      "text/plain": [
       "                timestamp  visitorid event  itemid  transactionid\n",
       "0 2015-06-02 05:02:12.117     257597  view  355908            NaN\n",
       "1 2015-06-02 05:50:14.164     992329  view  248676            NaN\n",
       "2 2015-06-02 05:13:19.827     111016  view  318965            NaN\n",
       "3 2015-06-02 05:12:35.914     483717  view  253185            NaN\n",
       "4 2015-06-02 05:02:17.106     951259  view  367447            NaN"
      ]
     },
     "execution_count": 36,
     "metadata": {},
     "output_type": "execute_result"
    }
   ],
   "source": [
    "# Load dataset\n",
    "events_df = dd.read_csv(\"events.csv\")\n",
    "\n",
    "# Convert timestamp to datetime\n",
    "events_df[\"timestamp\"] = dd.to_datetime(events_df[\"timestamp\"], unit=\"ms\")\n",
    "\n",
    "# Check first few rows\n",
    "events_df.head()\n"
   ]
  },
  {
   "cell_type": "markdown",
   "metadata": {},
   "source": [
    "COMPUTE USER ACTIVITY"
   ]
  },
  {
   "cell_type": "code",
   "execution_count": 37,
   "metadata": {},
   "outputs": [
    {
     "data": {
      "application/vnd.microsoft.datawrangler.viewer.v0+json": {
       "columns": [
        {
         "name": "index",
         "rawType": "int64",
         "type": "integer"
        },
        {
         "name": "visitorid",
         "rawType": "int64",
         "type": "integer"
        },
        {
         "name": "event_count",
         "rawType": "int64",
         "type": "integer"
        },
        {
         "name": "first_event",
         "rawType": "datetime64[ns]",
         "type": "datetime"
        },
        {
         "name": "last_event",
         "rawType": "datetime64[ns]",
         "type": "datetime"
        },
        {
         "name": "session_duration",
         "rawType": "float64",
         "type": "float"
        }
       ],
       "conversionMethod": "pd.DataFrame",
       "ref": "c0ed9eba-9b7e-4cc1-ab01-fd03b5748571",
       "rows": [
        [
         "0",
         "257597",
         "2",
         "2015-06-02 05:02:12.117000",
         "2015-06-08 22:00:21.247000",
         "579489.13"
        ],
        [
         "1",
         "992329",
         "30",
         "2015-05-05 05:06:24.830000",
         "2015-07-30 16:23:01.735000",
         "7470996.905"
        ],
        [
         "2",
         "111016",
         "2",
         "2015-05-31 02:27:57.492000",
         "2015-06-02 05:13:19.827000",
         "182722.335"
        ],
        [
         "3",
         "483717",
         "3",
         "2015-06-02 05:10:04.507000",
         "2015-06-02 05:12:35.914000",
         "151.407"
        ],
        [
         "4",
         "951259",
         "1",
         "2015-06-02 05:02:17.106000",
         "2015-06-02 05:02:17.106000",
         "0.0"
        ]
       ],
       "shape": {
        "columns": 5,
        "rows": 5
       }
      },
      "text/html": [
       "<div>\n",
       "<style scoped>\n",
       "    .dataframe tbody tr th:only-of-type {\n",
       "        vertical-align: middle;\n",
       "    }\n",
       "\n",
       "    .dataframe tbody tr th {\n",
       "        vertical-align: top;\n",
       "    }\n",
       "\n",
       "    .dataframe thead th {\n",
       "        text-align: right;\n",
       "    }\n",
       "</style>\n",
       "<table border=\"1\" class=\"dataframe\">\n",
       "  <thead>\n",
       "    <tr style=\"text-align: right;\">\n",
       "      <th></th>\n",
       "      <th>visitorid</th>\n",
       "      <th>event_count</th>\n",
       "      <th>first_event</th>\n",
       "      <th>last_event</th>\n",
       "      <th>session_duration</th>\n",
       "    </tr>\n",
       "  </thead>\n",
       "  <tbody>\n",
       "    <tr>\n",
       "      <th>0</th>\n",
       "      <td>257597</td>\n",
       "      <td>2</td>\n",
       "      <td>2015-06-02 05:02:12.117</td>\n",
       "      <td>2015-06-08 22:00:21.247</td>\n",
       "      <td>579489.130</td>\n",
       "    </tr>\n",
       "    <tr>\n",
       "      <th>1</th>\n",
       "      <td>992329</td>\n",
       "      <td>30</td>\n",
       "      <td>2015-05-05 05:06:24.830</td>\n",
       "      <td>2015-07-30 16:23:01.735</td>\n",
       "      <td>7470996.905</td>\n",
       "    </tr>\n",
       "    <tr>\n",
       "      <th>2</th>\n",
       "      <td>111016</td>\n",
       "      <td>2</td>\n",
       "      <td>2015-05-31 02:27:57.492</td>\n",
       "      <td>2015-06-02 05:13:19.827</td>\n",
       "      <td>182722.335</td>\n",
       "    </tr>\n",
       "    <tr>\n",
       "      <th>3</th>\n",
       "      <td>483717</td>\n",
       "      <td>3</td>\n",
       "      <td>2015-06-02 05:10:04.507</td>\n",
       "      <td>2015-06-02 05:12:35.914</td>\n",
       "      <td>151.407</td>\n",
       "    </tr>\n",
       "    <tr>\n",
       "      <th>4</th>\n",
       "      <td>951259</td>\n",
       "      <td>1</td>\n",
       "      <td>2015-06-02 05:02:17.106</td>\n",
       "      <td>2015-06-02 05:02:17.106</td>\n",
       "      <td>0.000</td>\n",
       "    </tr>\n",
       "  </tbody>\n",
       "</table>\n",
       "</div>"
      ],
      "text/plain": [
       "   visitorid  event_count             first_event              last_event  \\\n",
       "0     257597            2 2015-06-02 05:02:12.117 2015-06-08 22:00:21.247   \n",
       "1     992329           30 2015-05-05 05:06:24.830 2015-07-30 16:23:01.735   \n",
       "2     111016            2 2015-05-31 02:27:57.492 2015-06-02 05:13:19.827   \n",
       "3     483717            3 2015-06-02 05:10:04.507 2015-06-02 05:12:35.914   \n",
       "4     951259            1 2015-06-02 05:02:17.106 2015-06-02 05:02:17.106   \n",
       "\n",
       "   session_duration  \n",
       "0        579489.130  \n",
       "1       7470996.905  \n",
       "2        182722.335  \n",
       "3           151.407  \n",
       "4             0.000  "
      ]
     },
     "execution_count": 37,
     "metadata": {},
     "output_type": "execute_result"
    }
   ],
   "source": [
    "import dask.dataframe as dd\n",
    "\n",
    "# Group by visitorid and compute the number of events per user\n",
    "user_activity = events_df.groupby(\"visitorid\").agg(\n",
    "    event_count=(\"event\", \"count\"),  # Total number of events\n",
    "    first_event=(\"timestamp\", \"min\"),  # First recorded event\n",
    "    last_event=(\"timestamp\", \"max\")   # Last recorded event\n",
    ").reset_index()\n",
    "\n",
    "# Compute session duration (time span of activity)\n",
    "user_activity[\"session_duration\"] = (user_activity[\"last_event\"] - user_activity[\"first_event\"]).dt.total_seconds()\n",
    "\n",
    "# Display results\n",
    "user_activity.head()\n"
   ]
  },
  {
   "cell_type": "code",
   "execution_count": null,
   "metadata": {},
   "outputs": [
    {
     "name": "stdout",
     "output_type": "stream",
     "text": [
      "Identified 1015778 potential bots.\n",
      "Remaining users after bot removal: 391802\n",
      "\n",
      "✅ Bot detection & removal complete! File saved as 'cleaned_events.csv'.\n"
     ]
    }
   ],
   "source": [
    "# Define thresholds for bot detection\n",
    "event_threshold = user_activity[\"event_count\"].quantile(0.99)  # Top 1% most active users\n",
    "duration_threshold = 1  # Users with session duration < 1 second\n",
    "\n",
    "# Identify bot users\n",
    "bot_users = user_activity[\n",
    "    (user_activity[\"event_count\"] > event_threshold) | \n",
    "    (user_activity[\"session_duration\"] < duration_threshold)\n",
    "][\"visitorid\"].compute()\n",
    "\n",
    "print(f\"Identified {len(bot_users)} potential bots.\")\n",
    "\n",
    "# Remove bot users from the events dataset\n",
    "events_cleaned = events_df[~events_df[\"visitorid\"].isin(bot_users)]\n",
    "print(f\"Remaining users after bot removal: {events_cleaned['visitorid'].nunique().compute()}\")\n",
    "\n",
    "# Save cleaned dataset\n",
    "events_cleaned.to_csv(\"cleaned_events.csv\", index=False, single_file=True)\n",
    "print(\"\\n✅ Bot detection & removal complete! File saved as 'cleaned_events.csv'.\")\n"
   ]
  },
  {
   "cell_type": "markdown",
   "metadata": {},
   "source": [
    "EXTRACT TIME-BASED FEATURES"
   ]
  },
  {
   "cell_type": "code",
   "execution_count": null,
   "metadata": {},
   "outputs": [
    {
     "name": "stdout",
     "output_type": "stream",
     "text": [
      "\n",
      "✅ Time-based feature extraction complete! File saved as 'events_with_time_features.csv'.\n"
     ]
    }
   ],
   "source": [
    "# Load dataset\n",
    "events_df = dd.read_csv(\"cleaned_events.csv\")\n",
    "\n",
    "# Convert `timestamp` column to datetime\n",
    "events_df[\"timestamp\"] = dd.to_datetime(events_df[\"timestamp\"], errors=\"coerce\")\n",
    "\n",
    "# Extract time-based features\n",
    "events_df[\"hour\"] = events_df[\"timestamp\"].dt.hour\n",
    "events_df[\"day_of_week\"] = events_df[\"timestamp\"].dt.dayofweek\n",
    "events_df[\"month\"] = events_df[\"timestamp\"].dt.month\n",
    "\n",
    "# Save the updated dataset\n",
    "events_df.to_csv(\"events_with_time_features.csv\", index=False, single_file=True)\n",
    "\n",
    "print(\"\\n✅ Time-based feature extraction complete! File saved as 'events_with_time_features.csv'.\")\n"
   ]
  },
  {
   "cell_type": "markdown",
   "metadata": {},
   "source": [
    "ENCODE CATEGORICAL FEATURES"
   ]
  },
  {
   "cell_type": "code",
   "execution_count": null,
   "metadata": {},
   "outputs": [
    {
     "name": "stdout",
     "output_type": "stream",
     "text": [
      "\n",
      "✅ Categorical feature encoding complete! File saved as 'events_encoded.csv'.\n"
     ]
    }
   ],
   "source": [
    "# Load the dataset\n",
    "events_df = dd.read_csv(\"events_with_time_features.csv\")\n",
    "\n",
    "# Fill missing values in `event` column with a placeholder\n",
    "events_df[\"event\"] = events_df[\"event\"].fillna(\"Unknown\")\n",
    "\n",
    "# Convert to string type explicitly\n",
    "events_df[\"event\"] = events_df[\"event\"].astype(str)\n",
    "\n",
    "# Apply Label Encoding\n",
    "event_encoder = LabelEncoder()\n",
    "events_df[\"event_encoded\"] = events_df[\"event\"].map_partitions(lambda x: event_encoder.fit_transform(x), meta=('event_encoded', 'int64'))\n",
    "\n",
    "# Convert `category_id` to integer (if applicable)\n",
    "if \"category_id\" in events_df.columns:\n",
    "    events_df[\"category_id\"] = events_df[\"category_id\"].astype(\"int64\")\n",
    "\n",
    "# Save the updated dataset\n",
    "events_df.to_csv(\"events_encoded.csv\", index=False, single_file=True)\n",
    "\n",
    "print(\"\\n✅ Categorical feature encoding complete! File saved as 'events_encoded.csv'.\")\n"
   ]
  },
  {
   "cell_type": "markdown",
   "metadata": {},
   "source": [
    "COMPUTE USER INTERACTION"
   ]
  },
  {
   "cell_type": "code",
   "execution_count": null,
   "metadata": {},
   "outputs": [
    {
     "name": "stderr",
     "output_type": "stream",
     "text": [
      "C:\\Users\\DELL\\AppData\\Local\\Temp\\ipykernel_14696\\3287632040.py:10: UserWarning: `meta` is not specified, inferred from partial data. Please provide `meta` if the result is unexpected.\n",
      "  Before: .apply(func)\n",
      "  After:  .apply(func, meta={'x': 'f8', 'y': 'f8'}) for dataframe result\n",
      "  or:     .apply(func, meta=('x', 'f8'))            for series result\n",
      "  events_df[\"total_events\"] = events_df.groupby(\"visitorid\")[\"event\"].transform(\"count\")\n",
      "C:\\Users\\DELL\\AppData\\Local\\Temp\\ipykernel_14696\\3287632040.py:13: UserWarning: `meta` is not specified, inferred from partial data. Please provide `meta` if the result is unexpected.\n",
      "  Before: .apply(func)\n",
      "  After:  .apply(func, meta={'x': 'f8', 'y': 'f8'}) for dataframe result\n",
      "  or:     .apply(func, meta=('x', 'f8'))            for series result\n",
      "  events_df[\"session_count\"] = events_df.groupby(\"visitorid\")[\"timestamp\"].transform(\"nunique\")\n"
     ]
    },
    {
     "name": "stdout",
     "output_type": "stream",
     "text": [
      "\n",
      "✅ User interaction feature extraction complete! File saved as 'events_with_user_features.csv'.\n"
     ]
    }
   ],
   "source": [
    "# Load dataset\n",
    "events_df = dd.read_csv(\"events_encoded.csv\")\n",
    "\n",
    "# Ensure timestamp is datetime\n",
    "events_df[\"timestamp\"] = dd.to_datetime(events_df[\"timestamp\"])\n",
    "\n",
    "# Compute total number of events per user\n",
    "events_df[\"total_events\"] = events_df.groupby(\"visitorid\")[\"event\"].transform(\"count\")\n",
    "\n",
    "# Compute session count\n",
    "events_df[\"session_count\"] = events_df.groupby(\"visitorid\")[\"timestamp\"].transform(\"nunique\")\n",
    "\n",
    "# Sort by visitorid and timestamp\n",
    "events_df = events_df.sort_values([\"visitorid\", \"timestamp\"])\n",
    "\n",
    "# Function to compute `time_since_last_event`\n",
    "def compute_time_diff(df):\n",
    "    df[\"time_since_last_event\"] = df.groupby(\"visitorid\")[\"timestamp\"].diff().dt.total_seconds().fillna(0)\n",
    "    return df\n",
    "\n",
    "# Apply function\n",
    "events_df = events_df.map_partitions(compute_time_diff)\n",
    "\n",
    "# ✅ **Reorder columns to match metadata**\n",
    "column_order = [\n",
    "    \"timestamp\", \"visitorid\", \"event\", \"itemid\", \"transactionid\",\n",
    "    \"event_encoded\", \"day_of_week\", \"hour\", \"month\",\n",
    "    \"total_events\", \"session_count\", \"time_since_last_event\"\n",
    "]\n",
    "events_df = events_df[column_order]  # Reorder explicitly\n",
    "\n",
    "# Save the updated dataset\n",
    "events_df.to_csv(\"events_with_user_features.csv\", index=False, single_file=True)\n",
    "\n",
    "print(\"\\n✅ User interaction feature extraction complete! File saved as 'events_with_user_features.csv'.\")\n"
   ]
  },
  {
   "cell_type": "code",
   "execution_count": null,
   "metadata": {},
   "outputs": [
    {
     "name": "stdout",
     "output_type": "stream",
     "text": [
      "\n",
      "✅ User-item interaction features extracted! File saved as 'events_with_interaction_features.csv'.\n"
     ]
    }
   ],
   "source": [
    "# Load the dataset\n",
    "events_df = dd.read_csv(\"events_with_user_features.csv\", dtype={\"visitorid\": \"int64\", \"itemid\": \"int64\"})\n",
    "\n",
    "# Ensure timestamp is in datetime format\n",
    "events_df[\"timestamp\"] = dd.to_datetime(events_df[\"timestamp\"])\n",
    "\n",
    "# Define function to compute time difference within each partition\n",
    "def compute_time_diff(df):\n",
    "    df = df.sort_values([\"visitorid\", \"itemid\", \"timestamp\"])\n",
    "    df[\"time_spent\"] = df.groupby([\"visitorid\", \"itemid\"])[\"timestamp\"].diff().dt.total_seconds()\n",
    "    df[\"time_spent\"] = df[\"time_spent\"].fillna(0)\n",
    "    return df\n",
    "\n",
    "# ✅ Update metadata to include `time_spent`\n",
    "meta = events_df._meta.copy()\n",
    "meta[\"time_spent\"] = 0.0  # Define expected type (float)\n",
    "\n",
    "# Apply function using map_partitions with correct metadata\n",
    "events_df = events_df.map_partitions(compute_time_diff, meta=meta)\n",
    "\n",
    "# Save the updated dataset\n",
    "events_df.to_csv(\"events_with_interaction_features.csv\", index=False, single_file=True)\n",
    "\n",
    "print(\"\\n✅ User-item interaction features extracted! File saved as 'events_with_interaction_features.csv'.\")\n"
   ]
  },
  {
   "cell_type": "markdown",
   "metadata": {},
   "source": [
    "MERGE ITEM PROPERTIES"
   ]
  },
  {
   "cell_type": "markdown",
   "metadata": {},
   "source": [
    "Load & Clean Item Properties Data\n",
    "\n",
    "Merge item_properties_part1.1.csv and item_properties_part2.csv.\n",
    "\n",
    "Handle missing values and duplicates."
   ]
  },
  {
   "cell_type": "code",
   "execution_count": null,
   "metadata": {},
   "outputs": [],
   "source": [
    "\n",
    "# Load events_with_interaction_features.csv (processed events data)\n",
    "events_df = dd.read_csv(\"events_with_interaction_features.csv\", dtype={'transactionid': 'object'})\n",
    "\n",
    "# Load and merge item properties from two parts\n",
    "item_part1 = dd.read_csv(\"item_properties_part1.1.csv\", dtype={'property': 'object', 'value': 'object'})\n",
    "item_part2 = dd.read_csv(\"item_properties_part2.csv\", dtype={'property': 'object', 'value': 'object'})\n",
    "\n",
    "# Merge both item properties datasets and remove duplicates\n",
    "item_properties = dd.concat([item_part1, item_part2]).drop_duplicates()\n"
   ]
  },
  {
   "cell_type": "code",
   "execution_count": 4,
   "metadata": {},
   "outputs": [
    {
     "data": {
      "text/plain": [
       "['d:\\\\recommend\\\\Recommendation_Systems\\\\merged_events_with_item_properties_00.csv',\n",
       " 'd:\\\\recommend\\\\Recommendation_Systems\\\\merged_events_with_item_properties_01.csv',\n",
       " 'd:\\\\recommend\\\\Recommendation_Systems\\\\merged_events_with_item_properties_02.csv',\n",
       " 'd:\\\\recommend\\\\Recommendation_Systems\\\\merged_events_with_item_properties_03.csv',\n",
       " 'd:\\\\recommend\\\\Recommendation_Systems\\\\merged_events_with_item_properties_04.csv',\n",
       " 'd:\\\\recommend\\\\Recommendation_Systems\\\\merged_events_with_item_properties_05.csv',\n",
       " 'd:\\\\recommend\\\\Recommendation_Systems\\\\merged_events_with_item_properties_06.csv',\n",
       " 'd:\\\\recommend\\\\Recommendation_Systems\\\\merged_events_with_item_properties_07.csv',\n",
       " 'd:\\\\recommend\\\\Recommendation_Systems\\\\merged_events_with_item_properties_08.csv',\n",
       " 'd:\\\\recommend\\\\Recommendation_Systems\\\\merged_events_with_item_properties_09.csv',\n",
       " 'd:\\\\recommend\\\\Recommendation_Systems\\\\merged_events_with_item_properties_10.csv',\n",
       " 'd:\\\\recommend\\\\Recommendation_Systems\\\\merged_events_with_item_properties_11.csv',\n",
       " 'd:\\\\recommend\\\\Recommendation_Systems\\\\merged_events_with_item_properties_12.csv']"
      ]
     },
     "execution_count": 4,
     "metadata": {},
     "output_type": "execute_result"
    }
   ],
   "source": [
    "# Merge events data with item properties\n",
    "merged_df = events_df.merge(item_properties, on=\"itemid\", how=\"left\")\n",
    "\n",
    "# Save in multiple smaller files to avoid memory errors\n",
    "merged_df.to_csv(\"merged_events_with_item_properties_*.csv\", index=False, single_file=False)\n"
   ]
  },
  {
   "cell_type": "markdown",
   "metadata": {},
   "source": [
    "DATA VALIDATION ON DATASETS FOR MODELING"
   ]
  },
  {
   "cell_type": "code",
   "execution_count": null,
   "metadata": {},
   "outputs": [
    {
     "name": "stdout",
     "output_type": "stream",
     "text": [
      "🛠 Dataset Overview:\n",
      "timestamp_x              string[pyarrow]\n",
      "visitorid                          int64\n",
      "event                    string[pyarrow]\n",
      "itemid                             int64\n",
      "transactionid                    float64\n",
      "event_encoded                      int64\n",
      "day_of_week                        int64\n",
      "hour                               int64\n",
      "month                              int64\n",
      "total_events                       int64\n",
      "session_count                      int64\n",
      "time_since_last_event            float64\n",
      "time_spent                       float64\n",
      "timestamp_y                      float64\n",
      "property                 string[pyarrow]\n",
      "value                    string[pyarrow]\n",
      "dtype: object\n",
      "\n",
      "🆕 First 5 Rows:\n",
      "               timestamp_x  visitorid event  itemid  transactionid  \\\n",
      "0  2015-06-18 04:42:22.103         13  view  320589            NaN   \n",
      "1  2015-06-18 04:42:22.103         13  view  320589            NaN   \n",
      "2  2015-06-18 04:42:22.103         13  view  320589            NaN   \n",
      "3  2015-06-18 04:42:22.103         13  view  320589            NaN   \n",
      "4  2015-06-18 04:42:22.103         13  view  320589            NaN   \n",
      "\n",
      "   event_encoded  day_of_week  hour  month  total_events  session_count  \\\n",
      "0              2            3     4      6             2              2   \n",
      "1              2            3     4      6             2              2   \n",
      "2              2            3     4      6             2              2   \n",
      "3              2            3     4      6             2              2   \n",
      "4              2            3     4      6             2              2   \n",
      "\n",
      "   time_since_last_event  time_spent   timestamp_y property  \\\n",
      "0                    0.0         0.0  1.431227e+12        6   \n",
      "1                    0.0         0.0  1.433646e+12      551   \n",
      "2                    0.0         0.0  1.435460e+12      506   \n",
      "3                    0.0         0.0  1.431832e+12      888   \n",
      "4                    0.0         0.0  1.440904e+12      888   \n",
      "\n",
      "                           value  \n",
      "0                         668584  \n",
      "1          353870 1037247 178258  \n",
      "2         1253648 1284577 450031  \n",
      "3  180812 590055 1052766 1205739  \n",
      "4  180812 590055 1052766 1205739  \n"
     ]
    }
   ],
   "source": [
    "# Load all chunked files\n",
    "file_paths = [f\"d:\\\\recommend\\\\Recommendation_Systems\\\\merged_events_with_item_properties_{i:02d}.csv\" for i in range(13)]\n",
    "df = dd.read_csv(file_paths)\n",
    "\n",
    "# Display structure\n",
    "print(\"🛠 Dataset Overview:\")\n",
    "print(df.dtypes)  # Column types\n",
    "print(\"\\n🆕 First 5 Rows:\")\n",
    "print(df.head())\n"
   ]
  },
  {
   "cell_type": "code",
   "execution_count": 6,
   "metadata": {},
   "outputs": [
    {
     "name": "stdout",
     "output_type": "stream",
     "text": [
      "\n",
      "🔎 Missing Values per Column:\n",
      " timestamp_x                     0\n",
      "visitorid                       0\n",
      "event                           0\n",
      "itemid                          0\n",
      "transactionid            82930593\n",
      "event_encoded                   0\n",
      "day_of_week                     0\n",
      "hour                            0\n",
      "month                           0\n",
      "total_events                    0\n",
      "session_count                   0\n",
      "time_since_last_event           0\n",
      "time_spent                      0\n",
      "timestamp_y                 84447\n",
      "property                    84447\n",
      "value                       84447\n",
      "dtype: int64\n"
     ]
    }
   ],
   "source": [
    "# Check for missing values\n",
    "missing_values = df.isnull().sum().compute()\n",
    "print(\"\\n🔎 Missing Values per Column:\\n\", missing_values)\n"
   ]
  },
  {
   "cell_type": "code",
   "execution_count": 10,
   "metadata": {},
   "outputs": [
    {
     "name": "stdout",
     "output_type": "stream",
     "text": [
      "\n",
      "⚠️ Missing Columns: ['timestamp']\n"
     ]
    }
   ],
   "source": [
    "# Ensure all expected columns are present\n",
    "expected_columns = [\"timestamp\", \"visitorid\", \"event\", \"itemid\", \"transactionid\", \"property\", \"value\"]\n",
    "missing_columns = [col for col in expected_columns if col not in df.columns]\n",
    "\n",
    "if missing_columns:\n",
    "    print(f\"\\n⚠️ Missing Columns: {missing_columns}\")\n",
    "else:\n",
    "    print(\"\\n✅ All expected columns are present.\")\n"
   ]
  },
  {
   "cell_type": "code",
   "execution_count": 11,
   "metadata": {},
   "outputs": [
    {
     "name": "stdout",
     "output_type": "stream",
     "text": [
      "\n",
      "📊 Dataset Statistics:\n",
      "          visitorid        itemid  transactionid  event_encoded   day_of_week  \\\n",
      "count  8.369726e+07  8.369726e+07   766666.00000   8.369726e+07  8.369726e+07   \n",
      "mean   7.034480e+05  2.359361e+05     8898.41867   1.921586e+00  2.772814e+00   \n",
      "std    4.063347e+05  1.344192e+05     5090.88101   3.761915e-01  1.980097e+00   \n",
      "min    0.000000e+00  3.000000e+00        0.00000   0.000000e+00  0.000000e+00   \n",
      "25%    3.556380e+05  1.416060e+05     6376.00000   2.000000e+00  1.000000e+00   \n",
      "50%    7.103990e+05  2.568940e+05    11031.00000   2.000000e+00  3.000000e+00   \n",
      "75%    1.060263e+06  3.679520e+05    15933.00000   2.000000e+00  5.000000e+00   \n",
      "max    1.407573e+06  4.668670e+05    17671.00000   2.000000e+00  6.000000e+00   \n",
      "\n",
      "               hour         month  total_events  session_count  \\\n",
      "count  8.369726e+07  8.369726e+07  8.369726e+07   8.369726e+07   \n",
      "mean   1.259650e+01  6.735331e+00  4.715555e+00   4.710150e+00   \n",
      "std    7.920247e+00  1.287784e+00  2.969605e+00   2.962787e+00   \n",
      "min    0.000000e+00  5.000000e+00  2.000000e+00   2.000000e+00   \n",
      "25%    4.000000e+00  6.000000e+00  2.000000e+00   2.000000e+00   \n",
      "50%    1.600000e+01  7.000000e+00  4.000000e+00   4.000000e+00   \n",
      "75%    2.000000e+01  8.000000e+00  7.000000e+00   7.000000e+00   \n",
      "max    2.300000e+01  9.000000e+00  1.300000e+01   1.300000e+01   \n",
      "\n",
      "       time_since_last_event    time_spent   timestamp_y  \n",
      "count           8.369726e+07  8.369726e+07  8.361281e+07  \n",
      "mean            1.808025e+05  3.060566e+04  1.435758e+12  \n",
      "std             8.477206e+05  2.778138e+05  3.406811e+09  \n",
      "min             0.000000e+00  0.000000e+00  1.431227e+12  \n",
      "25%             0.000000e+00  0.000000e+00  1.433041e+12  \n",
      "50%             5.658600e+01  0.000000e+00  1.435460e+12  \n",
      "75%             5.857310e+02  5.955700e+01  1.439089e+12  \n",
      "max             1.178745e+07  1.170437e+07  1.442113e+12  \n"
     ]
    }
   ],
   "source": [
    "# Get basic statistics\n",
    "print(\"\\n📊 Dataset Statistics:\")\n",
    "print(df.describe().compute())\n"
   ]
  },
  {
   "cell_type": "code",
   "execution_count": 13,
   "metadata": {},
   "outputs": [
    {
     "name": "stdout",
     "output_type": "stream",
     "text": [
      "\n",
      "🛑 Approximate Duplicate Rows (10% sample): 30\n"
     ]
    }
   ],
   "source": [
    "# Convert to Pandas (for small sample) to check duplicates\n",
    "sample_df = df.sample(frac=0.1).compute()\n",
    "duplicate_count = sample_df.duplicated().sum()\n",
    "print(f\"\\n🛑 Approximate Duplicate Rows (10% sample): {duplicate_count * 10}\")\n"
   ]
  },
  {
   "cell_type": "code",
   "execution_count": 18,
   "metadata": {},
   "outputs": [
    {
     "name": "stdout",
     "output_type": "stream",
     "text": [
      "Shape: (83697259, 16)\n"
     ]
    }
   ],
   "source": [
    "num_rows = df.shape[0].compute()  # Compute number of rows\n",
    "num_columns = len(df.columns)  # Number of columns (doesn't need compute)\n",
    "\n",
    "print(f\"Shape: ({num_rows}, {num_columns})\")\n"
   ]
  },
  {
   "cell_type": "code",
   "execution_count": 19,
   "metadata": {},
   "outputs": [
    {
     "name": "stdout",
     "output_type": "stream",
     "text": [
      "✅ Dropped duplicate rows! New shape: (<dask_expr.expr.Scalar: expr=DropDuplicates(frame=ArrowStringConversion(frame=FromMapProjectable(8473848))).size() // 16, dtype=int64>, 16)\n"
     ]
    }
   ],
   "source": [
    "df = df.drop_duplicates()\n",
    "print(f\"✅ Dropped duplicate rows! New shape: {df.shape}\")\n"
   ]
  },
  {
   "cell_type": "code",
   "execution_count": 29,
   "metadata": {},
   "outputs": [],
   "source": [
    "df = df.drop_duplicates()\n",
    "df = df.dropna(subset=[\"timestamp_y\", \"property\", \"value\"])\n"
   ]
  },
  {
   "cell_type": "code",
   "execution_count": null,
   "metadata": {},
   "outputs": [
    {
     "name": "stdout",
     "output_type": "stream",
     "text": [
      "User activity aggregation complete. Sample:\n",
      "   visitorid  event_count             first_event              last_event  \\\n",
      "0          0            3 2015-09-11 20:49:49.439 2015-09-11 20:55:17.175   \n",
      "1          2            8 2015-08-07 17:51:44.567 2015-08-07 18:20:57.845   \n",
      "2          6            6 2015-08-30 06:03:48.202 2015-08-31 03:21:25.697   \n",
      "3          7            3 2015-05-14 05:39:36.753 2015-05-16 04:20:39.214   \n",
      "4         13            2 2015-06-18 04:42:22.103 2015-06-18 04:43:15.136   \n",
      "\n",
      "   unique_items  session_duration  \n",
      "0             3           327.736  \n",
      "1             4          1753.278  \n",
      "2             3         76657.495  \n",
      "3             3        168062.461  \n",
      "4             2            53.033  \n"
     ]
    }
   ],
   "source": [
    "# Load the cleaned events data\n",
    "events_df = dd.read_csv(\"events_with_interaction_features.csv\", dtype={\"visitorid\": \"int64\", \"itemid\": \"int64\"})\n",
    "\n",
    "# Ensure timestamp column is in datetime format\n",
    "events_df[\"timestamp\"] = dd.to_datetime(events_df[\"timestamp\"], errors=\"coerce\")\n",
    "\n",
    "# Compute user event counts and session time\n",
    "user_events = events_df.groupby(\"visitorid\").agg({\n",
    "    \"timestamp\": [\"count\", \"min\", \"max\"]\n",
    "}).compute()\n",
    "\n",
    "# Compute unique items separately\n",
    "unique_items = events_df.groupby(\"visitorid\")[\"itemid\"].nunique().compute()\n",
    "\n",
    "# Flatten MultiIndex columns\n",
    "user_events.columns = [\"event_count\", \"first_event\", \"last_event\"]\n",
    "user_activity = user_events.reset_index()\n",
    "\n",
    "# Add unique item count\n",
    "user_activity[\"unique_items\"] = unique_items.values\n",
    "\n",
    "# Convert timestamps to datetime in Pandas\n",
    "user_activity[\"first_event\"] = pd.to_datetime(user_activity[\"first_event\"])\n",
    "user_activity[\"last_event\"] = pd.to_datetime(user_activity[\"last_event\"])\n",
    "\n",
    "# Compute session duration in seconds\n",
    "user_activity[\"session_duration\"] = (user_activity[\"last_event\"] - user_activity[\"first_event\"]).dt.total_seconds()\n",
    "\n",
    "# Save aggregated data\n",
    "user_activity.to_csv(\"user_activity.csv\", index=False)\n",
    "\n",
    "print(\"User activity aggregation complete. Sample:\")\n",
    "print(user_activity.head())\n"
   ]
  },
  {
   "cell_type": "markdown",
   "metadata": {},
   "source": [
    "### **MODELING**"
   ]
  },
  {
   "cell_type": "markdown",
   "metadata": {},
   "source": [
    "#### ANOMALY DETECTION MODEL"
   ]
  },
  {
   "cell_type": "code",
   "execution_count": null,
   "metadata": {},
   "outputs": [
    {
     "name": "stdout",
     "output_type": "stream",
     "text": [
      "Detected 3912 anomalous users out of 391802 total users.\n"
     ]
    },
    {
     "data": {
      "image/png": "[encoded data removed]",
      "text/plain": [
       "<Figure size 1000x500 with 1 Axes>"
      ]
     },
     "metadata": {},
     "output_type": "display_data"
    },
    {
     "name": "stdout",
     "output_type": "stream",
     "text": [
      "User activity with anomaly labels saved to 'user_activity_with_anomalies.csv'.\n"
     ]
    }
   ],
   "source": [
    "# Load aggregated user activity data (if not already loaded)\n",
    "user_activity = pd.read_csv(\"user_activity.csv\")\n",
    "\n",
    "# Ensure that the timestamp columns are in datetime format (if needed)\n",
    "user_activity[\"first_event\"] = pd.to_datetime(user_activity[\"first_event\"])\n",
    "user_activity[\"last_event\"] = pd.to_datetime(user_activity[\"last_event\"])\n",
    "\n",
    "# (Session duration and event_count have already been computed)\n",
    "\n",
    "# Select relevant features for anomaly detection\n",
    "features = user_activity[[\"event_count\", \"session_duration\", \"unique_items\"]]\n",
    "\n",
    "# Initialize and train the Isolation Forest\n",
    "# Set contamination=0.01 (i.e., assume 1% anomalies) – adjust as needed.\n",
    "iso_forest = IsolationForest(contamination=0.01, random_state=42)\n",
    "user_activity[\"anomaly\"] = iso_forest.fit_predict(features)\n",
    "\n",
    "# Anomaly labels: -1 = anomaly (potential bot), 1 = normal\n",
    "anomalies = user_activity[user_activity[\"anomaly\"] == -1]\n",
    "print(f\"Detected {len(anomalies)} anomalous users out of {len(user_activity)} total users.\")\n",
    "\n",
    "# Visualize the distribution of session duration\n",
    "plt.figure(figsize=(10, 5))\n",
    "plt.hist(user_activity[\"session_duration\"], bins=50, alpha=0.5, label=\"All Users\")\n",
    "plt.hist(anomalies[\"session_duration\"], bins=50, alpha=0.5, label=\"Anomalies\")\n",
    "plt.xlabel(\"Session Duration (seconds)\")\n",
    "plt.ylabel(\"Frequency\")\n",
    "plt.legend()\n",
    "plt.title(\"Distribution of Session Duration\")\n",
    "plt.show()\n",
    "\n",
    "# Save the results for later filtering\n",
    "user_activity.to_csv(\"user_activity_with_anomalies.csv\", index=False)\n",
    "print(\"User activity with anomaly labels saved to 'user_activity_with_anomalies.csv'.\")\n"
   ]
  },
  {
   "cell_type": "code",
   "execution_count": 31,
   "metadata": {},
   "outputs": [
    {
     "name": "stdout",
     "output_type": "stream",
     "text": [
      "Cleaned events (without anomalies) saved successfully!\n"
     ]
    }
   ],
   "source": [
    "# Load the anomalies result (if needed)\n",
    "user_activity = pd.read_csv(\"user_activity_with_anomalies.csv\")\n",
    "\n",
    "# Get a list of normal user IDs (anomaly label 1)\n",
    "normal_users = user_activity[user_activity[\"anomaly\"] == 1][\"visitorid\"].tolist()\n",
    "\n",
    "# In your events dataset (using Dask), filter by these normal users:\n",
    "import dask.dataframe as dd\n",
    "events_df = dd.read_csv(\"cleaned_events.csv\", dtype={\"visitorid\": \"int64\"})\n",
    "events_df = events_df[events_df[\"visitorid\"].isin(normal_users)]\n",
    "events_df.to_csv(\"cleaned_events_no_anomalies_*.csv\", index=False, single_file=False)\n",
    "print(\"Cleaned events (without anomalies) saved successfully!\")\n"
   ]
  },
  {
   "cell_type": "markdown",
   "metadata": {},
   "source": [
    "### RECOMMENDATION SYS MODEL"
   ]
  },
  {
   "cell_type": "code",
   "execution_count": 2,
   "metadata": {},
   "outputs": [
    {
     "name": "stdout",
     "output_type": "stream",
     "text": [
      "Events shape: (1244229, 5)\n",
      "Unique users: 387890\n",
      "Unique items: 149152\n",
      "Sparse matrix shape: (387890, 149152)\n",
      "Number of non-zero entries: 1244229\n"
     ]
    }
   ],
   "source": [
    "# Load the cleaned events data (after anomaly removal)\n",
    "events = pd.read_csv(\"cleaned_events_no_anomalies_0.csv\")\n",
    "\n",
    "print(\"Events shape:\", events.shape)\n",
    "\n",
    "# Map event types to rating scores (adjust these as needed)\n",
    "event_score = {\"view\": 1, \"addtocart\": 3, \"transaction\": 5}\n",
    "events[\"rating\"] = events[\"event\"].map(event_score)\n",
    "\n",
    "# Get unique users and items\n",
    "unique_users = events[\"visitorid\"].unique()\n",
    "unique_items = events[\"itemid\"].unique()\n",
    "print(\"Unique users:\", len(unique_users))\n",
    "print(\"Unique items:\", len(unique_items))\n",
    "\n",
    "# Create mappings to convert IDs to indices\n",
    "user2idx = {user: idx for idx, user in enumerate(unique_users)}\n",
    "item2idx = {item: idx for idx, item in enumerate(unique_items)}\n",
    "\n",
    "# Map the IDs to indices for the matrix\n",
    "events[\"user_idx\"] = events[\"visitorid\"].map(user2idx)\n",
    "events[\"item_idx\"] = events[\"itemid\"].map(item2idx)\n",
    "\n",
    "# Build the sparse user–item matrix\n",
    "rows = events[\"user_idx\"].values\n",
    "cols = events[\"item_idx\"].values\n",
    "data = events[\"rating\"].values\n",
    "\n",
    "# Convert to NumPy arrays if they aren't already\n",
    "rows = np.array(rows)\n",
    "cols = np.array(cols)\n",
    "data = np.array(data)\n",
    "\n",
    "user_item_matrix = coo_matrix((data, (rows, cols)), shape=(len(unique_users), len(unique_items)))\n",
    "\n",
    "print(\"Sparse matrix shape:\", user_item_matrix.shape)\n",
    "print(\"Number of non-zero entries:\", user_item_matrix.nnz)\n"
   ]
  },
  {
   "cell_type": "markdown",
   "metadata": {},
   "source": [
    "1. BUILD THE SVD MODEL"
   ]
  },
  {
   "cell_type": "code",
   "execution_count": 3,
   "metadata": {},
   "outputs": [
    {
     "name": "stdout",
     "output_type": "stream",
     "text": [
      "SVD model fitted.\n",
      "User factors shape: (387890, 50)\n",
      "Item factors shape: (149152, 50)\n"
     ]
    }
   ],
   "source": [
    "# Set the number of latent factors (components)\n",
    "n_components = 50\n",
    "\n",
    "# Fit the SVD model on the sparse matrix\n",
    "svd_model = TruncatedSVD(n_components=n_components, random_state=42)\n",
    "user_factors = svd_model.fit_transform(user_item_matrix)  # Shape: (num_users, n_components)\n",
    "item_factors = svd_model.components_.T                      # Shape: (num_items, n_components)\n",
    "\n",
    "print(\"SVD model fitted.\")\n",
    "print(\"User factors shape:\", user_factors.shape)\n",
    "print(\"Item factors shape:\", item_factors.shape)\n"
   ]
  },
  {
   "cell_type": "markdown",
   "metadata": {},
   "source": [
    "2. PREPARE MAPPING DICTIONARIES"
   ]
  },
  {
   "cell_type": "code",
   "execution_count": 4,
   "metadata": {},
   "outputs": [],
   "source": [
    "# Create inverse mapping for items: index -> item id\n",
    "idx2item = {idx: item for item, idx in item2idx.items()}\n"
   ]
  },
  {
   "cell_type": "markdown",
   "metadata": {},
   "source": [
    "3. GENERATE RECOMMENDATIONS"
   ]
  },
  {
   "cell_type": "code",
   "execution_count": 5,
   "metadata": {},
   "outputs": [
    {
     "name": "stdout",
     "output_type": "stream",
     "text": [
      "Top recommendations for User 257597: [np.int64(112782), np.int64(234255), np.int64(441668), np.int64(315545), np.int64(161623), np.int64(318333), np.int64(100282), np.int64(211418), np.int64(153778), np.int64(96924)]\n"
     ]
    }
   ],
   "source": [
    "def recommend_for_user(user_id, top_n=10):\n",
    "    # Check if the user exists in our mapping\n",
    "    if user_id not in user2idx:\n",
    "        print(f\"User {user_id} not found in the data.\")\n",
    "        return []\n",
    "    \n",
    "    user_index = user2idx[user_id]\n",
    "    # Compute predicted scores for all items for this user\n",
    "    scores = np.dot(item_factors, user_factors[user_index])\n",
    "    \n",
    "    # Get indices of top_n items (highest scores)\n",
    "    top_indices = np.argsort(scores)[::-1][:top_n]\n",
    "    \n",
    "    # Map indices back to original item IDs\n",
    "    recommended_items = [idx2item[i] for i in top_indices]\n",
    "    return recommended_items\n",
    "\n",
    "# Test the recommendation function on a sample user\n",
    "sample_user = unique_users[0]  # for example, take the first user from unique_users array\n",
    "print(f\"Top recommendations for User {sample_user}: {recommend_for_user(sample_user)}\")\n"
   ]
  },
  {
   "cell_type": "markdown",
   "metadata": {},
   "source": [
    "SAVE THE MODEL"
   ]
  },
  {
   "cell_type": "code",
   "execution_count": null,
   "metadata": {},
   "outputs": [],
   "source": [
    "# Save the SVD model\n",
    "with open(\"svd_model.pkl\", \"wb\") as f:\n",
    "    pickle.dump(svd_model, f)\n",
    "\n",
    "# Save the user and item factors\n",
    "with open(\"user_factors.pkl\", \"wb\") as f:\n",
    "    pickle.dump(user_factors, f)\n",
    "with open(\"item_factors.pkl\", \"wb\") as f:\n",
    "    pickle.dump(item_factors, f)\n",
    "    \n",
    "# Also save the mappings (user2idx and idx2item) if needed for later use:\n",
    "with open(\"user2idx.pkl\", \"wb\") as f:\n",
    "    pickle.dump(user2idx, f)\n",
    "with open(\"idx2item.pkl\", \"wb\") as f:\n",
    "    pickle.dump(idx2item, f)\n"
   ]
  },
  {
   "cell_type": "markdown",
   "metadata": {},
   "source": [
    "EVALUATION AND TUNING"
   ]
  },
  {
   "cell_type": "code",
   "execution_count": 6,
   "metadata": {},
   "outputs": [
    {
     "name": "stdout",
     "output_type": "stream",
     "text": [
      "Created test_interactions for evaluation:\n",
      "[(0, [67045]), (2, [216305, 325215, 342816]), (7, [164941]), (22, [86411]), (37, [168952, 168952])]\n"
     ]
    }
   ],
   "source": [
    "# Load your cleaned events data (ensure this file has been created after anomaly removal)\n",
    "events = pd.read_csv(\"cleaned_events_no_anomalies_0.csv\")\n",
    "\n",
    "# we assume your events data has columns: visitorid and itemid (and possibly others)\n",
    "# Create a holdout test set (e.g., 20% of the data)\n",
    "train_df, test_df = train_test_split(events, test_size=0.2, random_state=42)\n",
    "\n",
    "# Save test set to a file if you want (optional)\n",
    "test_df.to_csv(\"test_events.csv\", index=False)\n",
    "\n",
    "# Build a dictionary mapping each visitorid to the list of itemid they interacted with in the test set\n",
    "test_interactions = test_df.groupby(\"visitorid\")[\"itemid\"].apply(list).to_dict()\n",
    "\n",
    "print(\"Created test_interactions for evaluation:\")\n",
    "print(list(test_interactions.items())[:5])  # Print first 5 entries as a sample\n"
   ]
  },
  {
   "cell_type": "code",
   "execution_count": null,
   "metadata": {},
   "outputs": [
    {
     "name": "stdout",
     "output_type": "stream",
     "text": [
      "Mean Precision@K: 0.005591542277778982\n"
     ]
    }
   ],
   "source": [
    "# Assume 'test_df' is your test set with columns: visitorid and itemid\n",
    "test_df = pd.read_csv(\"test_events.csv\")  # or however you have your test data\n",
    "\n",
    "# Group by visitorid and collect the items into a list\n",
    "test_interactions = test_df.groupby(\"visitorid\")[\"itemid\"].apply(list).to_dict()\n",
    "\n",
    "# Now you can use test_interactions in your evaluation code:\n",
    "k = 10\n",
    "precisions = []\n",
    "\n",
    "for user_id, actual_items in test_interactions.items():\n",
    "    recs = recommend_for_user(user_id, top_n=k)\n",
    "    # Define a precision function; here’s a simple example:\n",
    "    def precision_at_k(recommended, actual, k):\n",
    "        recommended_set = set(recommended[:k])\n",
    "        actual_set = set(actual)\n",
    "        return len(recommended_set & actual_set) / k\n",
    "    \n",
    "    precisions.append(precision_at_k(recs, actual_items, k=k))\n",
    "\n",
    "mean_precision_at_k = np.mean(precisions)\n",
    "print(\"Mean Precision@K:\", mean_precision_at_k)\n"
   ]
  },
  {
   "cell_type": "code",
   "execution_count": null,
   "metadata": {},
   "outputs": [
    {
     "name": "stdout",
     "output_type": "stream",
     "text": [
      "✅ Mean Recall@K: 0.04549898178036786\n"
     ]
    }
   ],
   "source": [
    "\n",
    "def recall_at_k(recommended, actual, k):\n",
    "    \"\"\"Compute Recall@K: Fraction of actual relevant items found in the top-K recommendations.\"\"\"\n",
    "    recommended = set(recommended[:k])\n",
    "    actual = set(actual)\n",
    "    if len(actual) == 0:\n",
    "        return 0  # Avoid division by zero if a user has no actual interactions\n",
    "    return len(recommended & actual) / len(actual)\n",
    "\n",
    "# Compute Recall@K for each user\n",
    "k = 10  # Adjust K as needed\n",
    "recall_scores = []\n",
    "\n",
    "for user_id, actual_items in test_interactions.items():\n",
    "    recommended_items = recommend_for_user(user_id, top_n=k)  # Ensure this function is defined\n",
    "    recall_scores.append(recall_at_k(recommended_items, actual_items, k))\n",
    "\n",
    "# Compute the Mean Recall@K\n",
    "mean_recall = np.mean(recall_scores)\n",
    "\n",
    "print(\"✅ Mean Recall@K:\", mean_recall)\n"
   ]
  },
  {
   "cell_type": "markdown",
   "metadata": {},
   "source": [
    "### HYBRID MODEL"
   ]
  },
  {
   "cell_type": "code",
   "execution_count": null,
   "metadata": {},
   "outputs": [
    {
     "name": "stdout",
     "output_type": "stream",
     "text": [
      "Item content features shape: (293400, 102)\n"
     ]
    }
   ],
   "source": [
    "\n",
    "# Load the merged item properties data (using one of your merged CSVs as an example)\n",
    "item_content_df = pd.read_csv(\"merged_events_with_item_properties_00.csv\")[[\"itemid\", \"property\"]].drop_duplicates()\n",
    "\n",
    "# Count frequency of each property value\n",
    "prop_counts = item_content_df[\"property\"].value_counts()\n",
    "\n",
    "# Choose the top N most frequent categories (such as, 100)\n",
    "top_n = 100\n",
    "top_properties = prop_counts.nlargest(top_n).index.tolist()\n",
    "\n",
    "# Replace properties not in the top list with 'Other'\n",
    "item_content_df[\"category\"] = item_content_df[\"property\"].apply(\n",
    "    lambda x: x if x in top_properties else \"Other\"\n",
    ")\n",
    "\n",
    "# One-hot encode the reduced category column\n",
    "item_onehot = pd.get_dummies(item_content_df[\"category\"], prefix=\"cat\")\n",
    "\n",
    "# Combine with itemid to get a final item content features DataFrame\n",
    "item_content_df = pd.concat([item_content_df[[\"itemid\"]], item_onehot], axis=1)\n",
    "\n",
    "print(\"Item content features shape:\", item_content_df.shape)\n"
   ]
  },
  {
   "cell_type": "code",
   "execution_count": 4,
   "metadata": {},
   "outputs": [
    {
     "name": "stdout",
     "output_type": "stream",
     "text": [
      "Item content features saved as 'item_content_features.csv'.\n"
     ]
    }
   ],
   "source": [
    "# Assuming you have your reduced item content DataFrame in a variable called item_content_df\n",
    "item_content_df.to_csv(\"item_content_features.csv\", index=False)\n",
    "print(\"Item content features saved as 'item_content_features.csv'.\")\n"
   ]
  },
  {
   "cell_type": "code",
   "execution_count": null,
   "metadata": {},
   "outputs": [
    {
     "name": "stdout",
     "output_type": "stream",
     "text": [
      "Processing chunk 1 with 50000 rows...\n",
      "Processing chunk 2 with 50000 rows...\n",
      "Processing chunk 3 with 50000 rows...\n",
      "Processing chunk 4 with 50000 rows...\n",
      "Processing chunk 5 with 50000 rows...\n",
      "Processing chunk 6 with 50000 rows...\n",
      "Processing chunk 7 with 50000 rows...\n",
      "Processing chunk 8 with 50000 rows...\n",
      "Processing chunk 9 with 50000 rows...\n",
      "Processing chunk 10 with 50000 rows...\n",
      "Processing chunk 11 with 50000 rows...\n",
      "Processing chunk 12 with 50000 rows...\n",
      "Processing chunk 13 with 50000 rows...\n",
      "Processing chunk 14 with 50000 rows...\n",
      "Processing chunk 15 with 50000 rows...\n",
      "Processing chunk 16 with 50000 rows...\n",
      "Processing chunk 17 with 50000 rows...\n",
      "Processing chunk 18 with 50000 rows...\n",
      "Processing chunk 19 with 50000 rows...\n",
      "Processing chunk 20 with 50000 rows...\n",
      "Processing chunk 21 with 50000 rows...\n",
      "Processing chunk 22 with 50000 rows...\n",
      "Processing chunk 23 with 50000 rows...\n",
      "Processing chunk 24 with 50000 rows...\n",
      "Processing chunk 25 with 44229 rows...\n",
      "Merged training events shape: (2832770, 103)\n",
      "Merged training events saved as 'train_events_with_content.csv'.\n"
     ]
    }
   ],
   "source": [
    "\n",
    "# Load the reduced item content features DataFrame\n",
    "item_content_df = pd.read_csv(\"item_content_features.csv\")\n",
    "# Identify the one-hot encoded columns (assuming they start with \"cat_\")\n",
    "onehot_cols = [col for col in item_content_df.columns if col.startswith(\"cat_\")]\n",
    "\n",
    "# Set a much smaller chunk size (e.g., 50,000 rows) to reduce memory footprint\n",
    "chunksize = 50000\n",
    "\n",
    "merged_chunks = []\n",
    "\n",
    "# Read the training events file in small chunks\n",
    "train_iter = pd.read_csv(\"cleaned_events_no_anomalies_0.csv\", usecols=[\"visitorid\", \"itemid\"], chunksize=chunksize)\n",
    "\n",
    "for i, chunk in enumerate(train_iter):\n",
    "    print(f\"Processing chunk {i+1} with {len(chunk)} rows...\")\n",
    "    # Merge the current chunk with item content features on 'itemid'\n",
    "    try:\n",
    "        merged_chunk = pd.merge(chunk, item_content_df, on=\"itemid\", how=\"left\")\n",
    "    except Exception as e:\n",
    "        print(f\"Error in chunk {i+1}: {e}\")\n",
    "        continue\n",
    "    \n",
    "    # Drop rows where any of the one-hot encoded content features are missing (if desired)\n",
    "    merged_chunk = merged_chunk.dropna(subset=onehot_cols)\n",
    "    merged_chunks.append(merged_chunk)\n",
    "    \n",
    "# Concatenate all merged chunks into a single DataFrame\n",
    "train_merged = pd.concat(merged_chunks, ignore_index=True)\n",
    "print(\"Merged training events shape:\", train_merged.shape)\n",
    "\n",
    "# Save the merged DataFrame to disk\n",
    "train_merged.to_csv(\"train_events_with_content.csv\", index=False)\n",
    "print(\"Merged training events saved as 'train_events_with_content.csv'.\")\n"
   ]
  },
  {
   "cell_type": "markdown",
   "metadata": {},
   "source": [
    "To mitigate memory issues, I should avoid loading or merging excessive rows at once. A practical approach is to use a smaller chunk size to ensure each merge operation stays within available memory. For instance, reducing the chunk size from 500,000 to 50,000 rows can make each merge significantly smaller, minimizing the risk of a MemoryError."
   ]
  },
  {
   "cell_type": "markdown",
   "metadata": {},
   "source": [
    "GENERATE AND SAVE USER PROFILES"
   ]
  },
  {
   "cell_type": "code",
   "execution_count": null,
   "metadata": {},
   "outputs": [
    {
     "name": "stdout",
     "output_type": "stream",
     "text": [
      "One-hot encoded columns: ['cat_102', 'cat_1032', 'cat_1036', 'cat_1037', 'cat_1066', 'cat_1079', 'cat_1090', 'cat_112', 'cat_120', 'cat_159', 'cat_186', 'cat_189', 'cat_19', 'cat_202', 'cat_227', 'cat_230', 'cat_231', 'cat_243', 'cat_28', 'cat_283', 'cat_30', 'cat_33', 'cat_348', 'cat_355', 'cat_364', 'cat_369', 'cat_38', 'cat_400', 'cat_405', 'cat_408', 'cat_415', 'cat_42', 'cat_422', 'cat_434', 'cat_451', 'cat_452', 'cat_46', 'cat_464', 'cat_470', 'cat_478', 'cat_480', 'cat_496', 'cat_506', 'cat_521', 'cat_546', 'cat_550', 'cat_558', 'cat_566', 'cat_575', 'cat_580', 'cat_581', 'cat_591', 'cat_6', 'cat_619', 'cat_658', 'cat_671', 'cat_675', 'cat_678', 'cat_681', 'cat_686', 'cat_689', 'cat_698', 'cat_701', 'cat_71', 'cat_713', 'cat_719', 'cat_720', 'cat_753', 'cat_758', 'cat_761', 'cat_764', 'cat_765', 'cat_776', 'cat_784', 'cat_785', 'cat_790', 'cat_797', 'cat_809', 'cat_810', 'cat_815', 'cat_839', 'cat_846', 'cat_888', 'cat_892', 'cat_899', 'cat_915', 'cat_917', 'cat_928', 'cat_935', 'cat_941', 'cat_960', 'cat_961', 'cat_964', 'cat_976', 'cat_978', 'cat_981', 'cat_988', 'cat_993', 'cat_Other', 'cat_available', 'cat_categoryid']\n",
      "User profiles saved as 'user_profiles.pkl'.\n"
     ]
    }
   ],
   "source": [
    "# Load the merged training data with content features\n",
    "train_merged = pd.read_csv(\"train_events_with_content.csv\")\n",
    "\n",
    "# Identify one-hot encoded columns (assuming they start with \"cat_\")\n",
    "onehot_cols = [col for col in train_merged.columns if col.startswith(\"cat_\")]\n",
    "print(\"One-hot encoded columns:\", onehot_cols)\n",
    "\n",
    "# Compute the user content profiles by averaging the one-hot vectors for each user\n",
    "user_profiles = train_merged.groupby(\"visitorid\")[onehot_cols].mean()\n",
    "\n",
    "# Save the user profiles dictionary for later use\n",
    "user_profile_dict = {user: row.values for user, row in user_profiles.iterrows()}\n",
    "\n",
    "with open(\"user_profiles.pkl\", \"wb\") as f:\n",
    "    pickle.dump(user_profile_dict, f)\n",
    "print(\"User profiles saved as 'user_profiles.pkl'.\")\n"
   ]
  },
  {
   "cell_type": "code",
   "execution_count": null,
   "metadata": {},
   "outputs": [],
   "source": []
  },
  {
   "cell_type": "markdown",
   "metadata": {},
   "source": [
    "HYBRID MODEL INTEGRATION"
   ]
  },
  {
   "cell_type": "code",
   "execution_count": null,
   "metadata": {},
   "outputs": [
    {
     "name": "stdout",
     "output_type": "stream",
     "text": [
      "Hybrid recommendations for user 257597: [np.int64(112782), np.int64(234255), np.int64(441668), np.int64(315545), np.int64(161623), np.int64(318333), np.int64(100282), np.int64(211418), np.int64(153778), np.int64(96924)]\n"
     ]
    }
   ],
   "source": [
    "# Load CF model components from pickle files (assumed to be saved already)\n",
    "with open(\"user2idx.pkl\", \"rb\") as f:\n",
    "    user2idx = pickle.load(f)\n",
    "with open(\"idx2item.pkl\", \"rb\") as f:\n",
    "    idx2item = pickle.load(f)\n",
    "with open(\"user_factors.pkl\", \"rb\") as f:\n",
    "    user_factors = pickle.load(f)\n",
    "with open(\"item_factors.pkl\", \"rb\") as f:\n",
    "    item_factors = pickle.load(f)\n",
    "\n",
    "# Load the saved user content profiles\n",
    "with open(\"user_profiles.pkl\", \"rb\") as f:\n",
    "    user_profile_dict = pickle.load(f)\n",
    "\n",
    "# Load the reduced item content features DataFrame (with one-hot encoded features)\n",
    "item_content_df = pd.read_csv(\"item_content_features.csv\")\n",
    "onehot_cols = [col for col in item_content_df.columns if col.startswith(\"cat_\")]\n",
    "# Build a dictionary mapping each item id to its content vector\n",
    "item_content_dict = {row[\"itemid\"]: row[onehot_cols].values for _, row in item_content_df.iterrows()}\n",
    "\n",
    "def hybrid_recommend_for_user(user_id, top_n=10, alpha=0.5):\n",
    "    # CF component: Collaborative Filtering scores from SVD latent factors\n",
    "    if user_id not in user2idx:\n",
    "        print(f\"User {user_id} not found in CF data.\")\n",
    "        return []\n",
    "    user_index = user2idx[user_id]\n",
    "    cf_scores = np.dot(item_factors, user_factors[user_index])\n",
    "    \n",
    "    # CBF component: Content-Based Filtering using cosine similarity\n",
    "    if user_id in user_profile_dict:\n",
    "        user_profile = user_profile_dict[user_id].reshape(1, -1)\n",
    "    else:\n",
    "        user_profile = np.zeros((1, len(onehot_cols)))\n",
    "    \n",
    "    content_scores = []\n",
    "    # Iterate over each item in the order of CF model using idx2item mapping\n",
    "    for i in range(len(item_factors)):\n",
    "        item_id = idx2item[i]\n",
    "        # Retrieve the content vector for the item\n",
    "        if item_id in item_content_dict:\n",
    "            item_vector = item_content_dict[item_id].reshape(1, -1)\n",
    "            sim = cosine_similarity(user_profile, item_vector)[0, 0]\n",
    "        else:\n",
    "            sim = 0\n",
    "        content_scores.append(sim)\n",
    "    content_scores = np.array(content_scores)\n",
    "    \n",
    "    # Combine CF and CBF scores using weight alpha\n",
    "    combined_scores = alpha * cf_scores + (1 - alpha) * content_scores\n",
    "    # Get indices of top_n items with the highest combined scores\n",
    "    top_indices = np.argsort(combined_scores)[::-1][:top_n]\n",
    "    recommended_items = [idx2item[i] for i in top_indices]\n",
    "    return recommended_items\n",
    "\n",
    "# Test the hybrid recommendation function with a sample user\n",
    "sample_user = list(user2idx.keys())[0]\n",
    "print(f\"Hybrid recommendations for user {sample_user}: {hybrid_recommend_for_user(sample_user, top_n=10, alpha=0.5)}\")\n"
   ]
  },
  {
   "cell_type": "code",
   "execution_count": null,
   "metadata": {},
   "outputs": [],
   "source": []
  },
  {
   "cell_type": "markdown",
   "metadata": {},
   "source": [
    "HYPERPARAMETER TUNING"
   ]
  },
  {
   "cell_type": "code",
   "execution_count": null,
   "metadata": {},
   "outputs": [
    {
     "name": "stdout",
     "output_type": "stream",
     "text": [
      "Alpha: 0.0 => Mean Precision@10: 0.0001, Mean Recall@10: 0.0005\n",
      "Alpha: 0.1 => Mean Precision@10: 0.0042, Mean Recall@10: 0.0366\n",
      "Alpha: 0.2 => Mean Precision@10: 0.0043, Mean Recall@10: 0.0376\n",
      "Alpha: 0.3 => Mean Precision@10: 0.0044, Mean Recall@10: 0.0386\n",
      "Alpha: 0.4 => Mean Precision@10: 0.0044, Mean Recall@10: 0.0386\n",
      "Alpha: 0.5 => Mean Precision@10: 0.0047, Mean Recall@10: 0.0408\n",
      "Alpha: 0.6 => Mean Precision@10: 0.0047, Mean Recall@10: 0.0408\n",
      "Alpha: 0.7 => Mean Precision@10: 0.0049, Mean Recall@10: 0.0418\n",
      "Alpha: 0.8 => Mean Precision@10: 0.0049, Mean Recall@10: 0.0418\n"
     ]
    }
   ],
   "source": [
    "# Define evaluation functions\n",
    "def precision_at_k(recommended, actual, k):\n",
    "    recommended = set(recommended[:k])\n",
    "    actual = set(actual)\n",
    "    if k == 0:\n",
    "        return 0\n",
    "    return len(recommended & actual) / k\n",
    "\n",
    "def recall_at_k(recommended, actual, k):\n",
    "    recommended = set(recommended[:k])\n",
    "    actual = set(actual)\n",
    "    if len(actual) == 0:\n",
    "        return 0\n",
    "    return len(recommended & actual) / len(actual)\n",
    "\n",
    "# --- Sample a subset of test interactions for faster evaluation ---\n",
    "# If test_interactions is large, sample a subset:\n",
    "\n",
    "sample_size = 1000  # Adjust as needed\n",
    "all_user_ids = list(test_interactions.keys())\n",
    "if len(all_user_ids) > sample_size:\n",
    "    sample_user_ids = np.random.choice(all_user_ids, size=sample_size, replace=False)\n",
    "    sample_test_interactions = {user: test_interactions[user] for user in sample_user_ids}\n",
    "else:\n",
    "    sample_test_interactions = test_interactions\n",
    "\n",
    "# Define candidate alpha values (from 0 to 1 in steps of 0.1)\n",
    "alpha_candidates = np.arange(0, 1.1, 0.1)\n",
    "k = 10  # Evaluate top 10 recommendations\n",
    "\n",
    "results = []\n",
    "\n",
    "for alpha in alpha_candidates:\n",
    "    precision_scores = []\n",
    "    recall_scores = []\n",
    "    \n",
    "    for user_id, actual_items in sample_test_interactions.items():\n",
    "        # Generate recommendations using the hybrid model with current alpha\n",
    "        recs = hybrid_recommend_for_user(user_id, top_n=k, alpha=alpha)\n",
    "        precision_scores.append(precision_at_k(recs, actual_items, k))\n",
    "        recall_scores.append(recall_at_k(recs, actual_items, k))\n",
    "    \n",
    "    mean_precision = np.mean(precision_scores)\n",
    "    mean_recall = np.mean(recall_scores)\n",
    "    results.append((alpha, mean_precision, mean_recall))\n",
    "    print(f\"Alpha: {alpha:.1f} => Mean Precision@{k}: {mean_precision:.4f}, Mean Recall@{k}: {mean_recall:.4f}\")\n",
    "\n",
    "# Select best alpha based on mean recall (or any metric you prefer)\n",
    "best_alpha = max(results, key=lambda x: x[2])[0]\n",
    "print(f\"\\nBest alpha (based on Recall@{k}): {best_alpha}\")\n",
    "\n",
    "# Save the hybrid model with the tuned best alpha and necessary components\n",
    "hybrid_model = {\n",
    "    \"alpha\": best_alpha,\n",
    "    \"user_factors\": user_factors,\n",
    "    \"item_factors\": item_factors,\n",
    "    \"user2idx\": user2idx,\n",
    "    \"idx2item\": idx2item,\n",
    "    \"item_content_dict\": item_content_dict,\n",
    "    \"user_profiles\": user_profile_dict,  # Assuming you saved it as user_profiles\n",
    "    \"onehot_cols\": onehot_cols\n",
    "}\n",
    "\n",
    "with open(\"hybrid_model.pkl\", \"wb\") as f:\n",
    "    pickle.dump(hybrid_model, f)\n",
    "print(\"Hybrid model saved as 'hybrid_model.pkl'.\")\n"
   ]
  },
  {
   "cell_type": "code",
   "execution_count": null,
   "metadata": {},
   "outputs": [
    {
     "name": "stdout",
     "output_type": "stream",
     "text": [
      "Hybrid model saved as 'hybrid_model.pkl'.\n"
     ]
    }
   ],
   "source": [
    "best_alpha = 0.7  # Chosen based on your tuning results\n",
    "\n",
    "hybrid_model = {\n",
    "    \"alpha\": best_alpha,\n",
    "    \"user_factors\": user_factors,\n",
    "    \"item_factors\": item_factors,\n",
    "    \"user2idx\": user2idx,\n",
    "    \"idx2item\": idx2item,\n",
    "    \"item_content_dict\": item_content_dict,\n",
    "    \"user_profiles\": user_profile_dict,  # or however you named your user content profiles\n",
    "    \"onehot_cols\": onehot_cols\n",
    "}\n",
    "\n",
    "with open(\"hybrid_model.pkl\", \"wb\") as f:\n",
    "    pickle.dump(hybrid_model, f)\n",
    "print(\"Hybrid model saved as 'hybrid_model.pkl'.\")\n"
   ]
  },
  {
   "cell_type": "code",
   "execution_count": null,
   "metadata": {},
   "outputs": [
    {
     "name": "stdout",
     "output_type": "stream",
     "text": [
      "Hybrid model saved as 'hybrid_model.pkl'.\n"
     ]
    }
   ],
   "source": [
    "\n",
    "# Save the hybrid model using joblib to compress the large dataset\n",
    "joblib.dump(hybrid_model, \"hybrid_model.pkl\", compress=3)\n",
    "print(\"Hybrid model saved as 'hybrid_model.pkl'.\")"
   ]
  },
  {
   "cell_type": "code",
   "execution_count": null,
   "metadata": {},
   "outputs": [],
   "source": []
  },
  {
   "cell_type": "markdown",
   "metadata": {},
   "source": [
    "### Analytical Questions\n"
   ]
  },
  {
   "cell_type": "markdown",
   "metadata": {},
   "source": [
    "1. What is the Overall Distribution of User Interactions?"
   ]
  },
  {
   "cell_type": "code",
   "execution_count": null,
   "metadata": {},
   "outputs": [
    {
     "name": "stderr",
     "output_type": "stream",
     "text": [
      "C:\\Users\\DELL\\AppData\\Local\\Temp\\ipykernel_22416\\1288647813.py:13: FutureWarning: \n",
      "\n",
      "Passing `palette` without assigning `hue` is deprecated and will be removed in v0.14.0. Assign the `x` variable to `hue` and set `legend=False` for the same effect.\n",
      "\n",
      "  ax = sns.barplot(x=event_counts.index, y=event_counts.values, palette=\"viridis\")\n"
     ]
    },
    {
     "data": {
      "image/png": "[encoded data removed]",
      "text/plain": [
       "<Figure size 800x600 with 1 Axes>"
      ]
     },
     "metadata": {},
     "output_type": "display_data"
    }
   ],
   "source": [
    "\n",
    "# Load events data\n",
    "events = pd.read_csv(\"events.csv\")\n",
    "\n",
    "# Count events by type\n",
    "event_counts = events[\"event\"].value_counts()\n",
    "total = event_counts.sum()\n",
    "\n",
    "plt.figure(figsize=(8,6))\n",
    "ax = sns.barplot(x=event_counts.index, y=event_counts.values, palette=\"viridis\")\n",
    "plt.title(\"Distribution of User Interactions\")\n",
    "plt.xlabel(\"Event Type\")\n",
    "plt.ylabel(\"Count\")\n",
    "\n",
    "# Annotate each bar with its percentage\n",
    "for p in ax.patches:\n",
    "    count = p.get_height()\n",
    "    percentage = (count / total) * 100\n",
    "    ax.annotate(f'{percentage:.1f}%', \n",
    "                (p.get_x() + p.get_width() / 2., count), \n",
    "                ha='center', va='bottom', fontsize=10, color='black', xytext=(0, 5), textcoords='offset points')\n",
    "\n",
    "plt.show()\n"
   ]
  },
  {
   "cell_type": "markdown",
   "metadata": {},
   "source": [
    "#### **Insights**\n",
    "\n",
    "* 96.7% of interactions are add-to-cart events.\n",
    "* 2.5% are view events.\n",
    "* 0.8% result in transactions.\n",
    "* This indicates that while many users add items to their cart, a small percentage proceed to complete a transaction."
   ]
  },
  {
   "cell_type": "markdown",
   "metadata": {},
   "source": [
    "2. What are the Conversion Rates Between Different Event Types?"
   ]
  },
  {
   "cell_type": "code",
   "execution_count": null,
   "metadata": {},
   "outputs": [
    {
     "name": "stdout",
     "output_type": "stream",
     "text": [
      "View -> Add-to-cart Conversion Rate: 2.60%\n",
      "Add-to-cart -> Transaction Conversion Rate: 32.39%\n"
     ]
    },
    {
     "name": "stderr",
     "output_type": "stream",
     "text": [
      "C:\\Users\\DELL\\AppData\\Local\\Temp\\ipykernel_22416\\3254529837.py:23: FutureWarning: \n",
      "\n",
      "Passing `palette` without assigning `hue` is deprecated and will be removed in v0.14.0. Assign the `x` variable to `hue` and set `legend=False` for the same effect.\n",
      "\n",
      "  ax = sns.barplot(x='Step', y='Conversion Rate (%)', data=conversions, palette=\"coolwarm\")\n"
     ]
    },
    {
     "data": {
      "image/png": "[encoded data removed]",
      "text/plain": [
       "<Figure size 800x600 with 1 Axes>"
      ]
     },
     "metadata": {},
     "output_type": "display_data"
    }
   ],
   "source": [
    "# Compute total counts for each event type\n",
    "total_views = len(events[events['event'] == 'view'])\n",
    "total_addtocart = len(events[events['event'] == 'addtocart'])\n",
    "total_transaction = len(events[events['event'] == 'transaction'])\n",
    "\n",
    "conversion_view_to_add = total_addtocart / total_views * 100 if total_views > 0 else 0\n",
    "conversion_add_to_trans = total_transaction / total_addtocart * 100 if total_addtocart > 0 else 0\n",
    "\n",
    "print(f\"View -> Add-to-cart Conversion Rate: {conversion_view_to_add:.2f}%\")\n",
    "print(f\"Add-to-cart -> Transaction Conversion Rate: {conversion_add_to_trans:.2f}%\")\n",
    "\n",
    "# Prepare the DataFrame for plotting\n",
    "conversions = pd.DataFrame({\n",
    "    'Step': ['View -> Add-to-cart', 'Add-to-cart -> Transaction'],\n",
    "    'Conversion Rate (%)': [conversion_view_to_add, conversion_add_to_trans]\n",
    "})\n",
    "\n",
    "plt.figure(figsize=(8,6))\n",
    "ax = sns.barplot(x='Step', y='Conversion Rate (%)', data=conversions, palette=\"coolwarm\")\n",
    "plt.title(\"Conversion Rates Between Event Types\")\n",
    "plt.ylabel(\"Conversion Rate (%)\")\n",
    "\n",
    "# Annotate each bar with its conversion rate percentage\n",
    "for p in ax.patches:\n",
    "    rate = p.get_height()\n",
    "    ax.annotate(f'{rate:.2f}%', \n",
    "                (p.get_x() + p.get_width() / 2., rate), \n",
    "                ha='center', va='bottom', fontsize=12, color='black', xytext=(0, 5), textcoords='offset points')\n",
    "\n",
    "plt.show()\n"
   ]
  },
  {
   "cell_type": "markdown",
   "metadata": {},
   "source": [
    "#### **Insights**\n",
    "\n",
    "* 2.60% of users move from viewing to adding to cart.\n",
    "* A higher percentage (not clearly extracted) transition from add-to-cart to transaction.\n",
    "* This suggests that while the initial engagement is low, those who add items to their cart have a higher likelihood of purchasing."
   ]
  },
  {
   "cell_type": "markdown",
   "metadata": {},
   "source": [
    "3. Which Items or Item Categories are the Most Popular?"
   ]
  },
  {
   "cell_type": "code",
   "execution_count": 10,
   "metadata": {},
   "outputs": [
    {
     "name": "stderr",
     "output_type": "stream",
     "text": [
      "C:\\Users\\DELL\\AppData\\Local\\Temp\\ipykernel_22416\\1091666625.py:11: FutureWarning: \n",
      "\n",
      "Passing `palette` without assigning `hue` is deprecated and will be removed in v0.14.0. Assign the `x` variable to `hue` and set `legend=False` for the same effect.\n",
      "\n",
      "  sns.barplot(x=category_counts.index.astype(str), y=category_counts.values, palette=\"magma\")\n"
     ]
    },
    {
     "data": {
      "image/png": "[encoded data removed]",
      "text/plain": [
       "<Figure size 1000x600 with 1 Axes>"
      ]
     },
     "metadata": {},
     "output_type": "display_data"
    }
   ],
   "source": [
    "# Load one of your merged files (adjust filename/path)\n",
    "merged_df = pd.read_csv(\"merged_events_with_item_properties_00.csv\")\n",
    "\n",
    "# Filter rows that correspond to category information (assuming 'property' == 'categoryid')\n",
    "category_events = merged_df[merged_df['property'] == 'categoryid']\n",
    "\n",
    "# Count the number of events per category (assuming category info is stored in 'value')\n",
    "category_counts = category_events['value'].value_counts().head(10)\n",
    "\n",
    "plt.figure(figsize=(10,6))\n",
    "sns.barplot(x=category_counts.index.astype(str), y=category_counts.values, palette=\"magma\")\n",
    "plt.title(\"Top 10 Most Popular Categories\")\n",
    "plt.xlabel(\"Category ID\")\n",
    "plt.ylabel(\"Number of Events\")\n",
    "plt.xticks(rotation=45)\n",
    "plt.show()\n"
   ]
  },
  {
   "cell_type": "markdown",
   "metadata": {},
   "source": [
    "#### **Insights:** \n",
    "\n",
    "* The most popular category (1613) has over 20,000 interactions, significantly higher than the second-most popular category (491) with around 14,000 interactions.\n",
    "* This indicates that user interactions are concentrated in a few categories, with a steep drop-off for other categories.\n",
    "* Categories ranked 3rd to 10th have a gradual decline in event counts, suggesting that while a few categories dominate, there is still diversified engagement across different products."
   ]
  },
  {
   "cell_type": "markdown",
   "metadata": {},
   "source": [
    "4. How Does User Behavior Vary by Time?"
   ]
  },
  {
   "cell_type": "code",
   "execution_count": null,
   "metadata": {},
   "outputs": [
    {
     "data": {
      "image/png": "[encoded data removed]",
      "text/plain": [
       "<Figure size 1200x600 with 2 Axes>"
      ]
     },
     "metadata": {},
     "output_type": "display_data"
    }
   ],
   "source": [
    "# Load events data (adjust file path and column name if needed)\n",
    "events = pd.read_csv(\"events.csv\")\n",
    "\n",
    "# Convert the timestamp column to datetime (replace 'timestamp' with your actual column name)\n",
    "events[\"timestamp\"] = pd.to_datetime(events[\"timestamp\"], errors=\"coerce\")\n",
    "\n",
    "# Create new time-based columns\n",
    "events[\"hour\"] = events[\"timestamp\"].dt.hour\n",
    "events[\"day_of_week\"] = events[\"timestamp\"].dt.dayofweek  # Monday=0, Sunday=6\n",
    "\n",
    "# Now group by day_of_week and hour to build a heatmap of user activity\n",
    "heatmap_data = events.groupby(['day_of_week', 'hour']).size().unstack()\n",
    "\n",
    "plt.figure(figsize=(12, 6))\n",
    "sns.heatmap(heatmap_data, cmap=\"YlGnBu\", annot=True, fmt=\"d\")\n",
    "plt.title(\"User Events by Day of Week and Hour\")\n",
    "plt.xlabel(\"Hour of Day\")\n",
    "plt.ylabel(\"Day of Week\")\n",
    "plt.show()\n"
   ]
  },
  {
   "cell_type": "markdown",
   "metadata": {},
   "source": []
  },
  {
   "cell_type": "markdown",
   "metadata": {},
   "source": [
    "5. What is the Distribution of User Activity?"
   ]
  },
  {
   "cell_type": "code",
   "execution_count": 12,
   "metadata": {},
   "outputs": [
    {
     "data": {
      "image/png": "[encoded data removed]",
      "text/plain": [
       "<Figure size 1000x600 with 1 Axes>"
      ]
     },
     "metadata": {},
     "output_type": "display_data"
    }
   ],
   "source": [
    "# Count the number of events per user\n",
    "user_event_counts = events.groupby(\"visitorid\").size()\n",
    "\n",
    "plt.figure(figsize=(10,6))\n",
    "sns.histplot(user_event_counts, bins=50, kde=True)\n",
    "plt.title(\"Distribution of Events per User\")\n",
    "plt.xlabel(\"Number of Events\")\n",
    "plt.ylabel(\"User Count\")\n",
    "plt.show()\n"
   ]
  },
  {
   "cell_type": "markdown",
   "metadata": {},
   "source": [
    "6. What is the Baseline Performance of the Collaborative Filtering Model?"
   ]
  },
  {
   "cell_type": "code",
   "execution_count": 13,
   "metadata": {},
   "outputs": [
    {
     "data": {
      "image/png": "[encoded data removed]",
      "text/plain": [
       "<Figure size 1000x600 with 1 Axes>"
      ]
     },
     "metadata": {},
     "output_type": "display_data"
    }
   ],
   "source": [
    "# Suppose 'cf_scores' is computed for a given user using SVD latent factors\n",
    "# For demonstration, let's assume we have computed cf_scores for a sample user\n",
    "sample_user = events[\"visitorid\"].iloc[0]  # example: take the first user\n",
    "user_index = user2idx[sample_user]  # from your mapping\n",
    "cf_scores = np.dot(item_factors, user_factors[user_index])\n",
    "\n",
    "plt.figure(figsize=(10,6))\n",
    "sns.histplot(cf_scores, bins=50, kde=True)\n",
    "plt.title(f\"Distribution of CF Scores for User {sample_user}\")\n",
    "plt.xlabel(\"CF Score\")\n",
    "plt.ylabel(\"Frequency\")\n",
    "plt.show()\n"
   ]
  },
  {
   "cell_type": "markdown",
   "metadata": {},
   "source": [
    "7. How Does the Hybrid Model Perform Across Different α Values?"
   ]
  },
  {
   "cell_type": "code",
   "execution_count": null,
   "metadata": {},
   "outputs": [
    {
     "data": {
      "image/png": "[encoded data removed]",
      "text/plain": [
       "<Figure size 1000x600 with 1 Axes>"
      ]
     },
     "metadata": {},
     "output_type": "display_data"
    }
   ],
   "source": [
    "\n",
    "results = [\n",
    "    (0.0, 0.0001, 0.0005),\n",
    "    (0.1, 0.0042, 0.0366),\n",
    "    (0.2, 0.0043, 0.0376),\n",
    "    (0.3, 0.0044, 0.0386),\n",
    "    (0.4, 0.0044, 0.0386),\n",
    "    (0.5, 0.0047, 0.0408),\n",
    "    (0.6, 0.0047, 0.0408),\n",
    "    (0.7, 0.0049, 0.0418),\n",
    "    (0.8, 0.0049, 0.0418)\n",
    "]\n",
    "\n",
    "results_df = pd.DataFrame(results, columns=[\"alpha\", \"Precision@10\", \"Recall@10\"])\n",
    "\n",
    "plt.figure(figsize=(10,6))\n",
    "sns.lineplot(data=results_df, x=\"alpha\", y=\"Precision@10\", marker=\"o\", label=\"Precision@10\")\n",
    "sns.lineplot(data=results_df, x=\"alpha\", y=\"Recall@10\", marker=\"o\", label=\"Recall@10\")\n",
    "plt.title(\"Hybrid Model Performance vs. α\")\n",
    "plt.xlabel(\"α (Weight for CF)\")\n",
    "plt.ylabel(\"Metric Value\")\n",
    "plt.legend()\n",
    "plt.show()\n"
   ]
  },
  {
   "cell_type": "markdown",
   "metadata": {},
   "source": [
    "#### **Insights:**\n",
    "\n",
    "* Impact of α (Weight for Collaborative Filtering - CF):\n",
    "\n",
    "As α increases, both Precision@10 and Recall@10 improve, meaning that adding more CF influence enhances recommendation quality.\n",
    "\n",
    "The initial jump at α ≈ 0.1 suggests a significant improvement when CF is introduced.\n",
    "\n",
    "\n",
    "* Recall Improves More Than Precision:\n",
    "\n",
    "Recall@10 shows a steep rise initially and then gradually plateaus around α = 0.5.\n",
    "\n",
    "Precision@10 increases slightly but remains low, indicating that while more relevant recommendations are retrieved, precision is still a challenge.\n",
    "\n",
    "\n",
    "* Optimal α Value:\n",
    "\n",
    "Between 0.5 and 0.7, recall stabilizes, and precision is relatively stable.\n",
    "\n",
    "This suggests that a balanced hybrid model (not fully CF-driven) works best."
   ]
  },
  {
   "cell_type": "markdown",
   "metadata": {},
   "source": []
  }
 ],
 "metadata": {
  "kernelspec": {
   "display_name": "recsys_env",
   "language": "python",
   "name": "python3"
  },
  "language_info": {
   "codemirror_mode": {
    "name": "ipython",
    "version": 3
   },
   "file_extension": ".py",
   "mimetype": "text/x-python",
   "name": "python",
   "nbconvert_exporter": "python",
   "pygments_lexer": "ipython3",
   "version": "3.10.11"
  }
 },
 "nbformat": 4,
 "nbformat_minor": 2
}
